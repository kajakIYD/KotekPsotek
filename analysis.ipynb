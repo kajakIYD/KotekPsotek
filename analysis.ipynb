{
 "cells": [
  {
   "cell_type": "code",
   "execution_count": 78,
   "id": "23e595d1",
   "metadata": {},
   "outputs": [],
   "source": [
    "import pandas as pd\n",
    "\n",
    "import plotly.express as px\n",
    "\n",
    "from main import GameResult"
   ]
  },
  {
   "cell_type": "code",
   "execution_count": 54,
   "id": "237b0088",
   "metadata": {},
   "outputs": [],
   "source": [
    "df = pd.read_csv(\"results.csv\")"
   ]
  },
  {
   "cell_type": "code",
   "execution_count": 74,
   "id": "c4737f7d",
   "metadata": {},
   "outputs": [],
   "source": [
    "def _sanity_check(x, CAT, animal_cols):\n",
    "    cat_finished = x[CAT] == GameResult.FINISHED.name\n",
    "    any_animal_finished = any(x[col] == GameResult.FINISHED.name for col in animal_cols)\n",
    "    all_animals_chased = all(x[col] == GameResult.CHASED.name for col in animal_cols)\n",
    "    assert cat_finished != any_animal_finished\n",
    "    if any_animal_finished or all_animals_chased:\n",
    "        assert any_animal_finished != all_animals_chased\n",
    "\n",
    "\n",
    "def get_winner(x):\n",
    "    CAT = \"C\"\n",
    "    animal_cols = [\"B\", \"S\", \"M\"]\n",
    "    _sanity_check(x, CAT, animal_cols)\n",
    "    result = None\n",
    "    for col in [CAT] + animal_cols:\n",
    "        if x[col] == GameResult.FINISHED.name:\n",
    "            result = col\n",
    "            break\n",
    "    return result"
   ]
  },
  {
   "cell_type": "code",
   "execution_count": 75,
   "id": "11e579d3",
   "metadata": {},
   "outputs": [],
   "source": [
    "ds = []\n",
    "for g_id in df.game_id.unique():\n",
    "    df_game = df[df[\"game_id\"] == g_id]\n",
    "    last_epoch = df_game.epoch.max()\n",
    "    df_last_epoch = df_game[df_game[\"epoch\"] == last_epoch]\n",
    "    d = {\"end_epoch\": last_epoch, \"game_id\": g_id}\n",
    "    for idx, row in df_last_epoch.iterrows():\n",
    "        d[row[\"name\"]] = GameResult(row[\"game_result\"]).name\n",
    "    ds.append(d)\n",
    "\n",
    "df_game_result = pd.DataFrame(ds)\n",
    "df_game_result[\"winner\"] = df_game_result.apply(get_winner, axis=1)"
   ]
  },
  {
   "cell_type": "code",
   "execution_count": 80,
   "id": "c088a5a6",
   "metadata": {},
   "outputs": [
    {
     "data": {
      "application/vnd.plotly.v1+json": {
       "config": {
        "plotlyServerURL": "https://plot.ly"
       },
       "data": [
        {
         "bingroup": "x",
         "hovertemplate": "winner=%{x}<br>count=%{y}<extra></extra>",
         "legendgroup": "",
         "marker": {
          "color": "#636efa",
          "pattern": {
           "shape": ""
          }
         },
         "name": "",
         "orientation": "v",
         "showlegend": false,
         "type": "histogram",
         "x": [
          "C",
          "C",
          "C",
          "C",
          "C",
          "C",
          "B",
          "B",
          "S",
          "C",
          "M",
          "C",
          "C",
          "C",
          "C",
          "S",
          "C",
          "S",
          "S",
          "S",
          "C",
          "C",
          "C",
          "C",
          "C",
          "B",
          "C",
          "S",
          "S",
          "C",
          "C",
          "C",
          "C",
          "M",
          "B",
          "C",
          "C",
          "C",
          "B",
          "C",
          "C",
          "C",
          "B",
          "C",
          "C",
          "C",
          "M",
          "C",
          "C",
          "S",
          "S",
          "C",
          "B",
          "C",
          "C",
          "C",
          "S",
          "B",
          "B",
          "B",
          "C",
          "B",
          "B",
          "C",
          "S",
          "C",
          "C",
          "C",
          "C",
          "C",
          "C",
          "C",
          "C",
          "C",
          "C",
          "C",
          "C",
          "S",
          "B",
          "C",
          "C",
          "M",
          "C",
          "C",
          "C",
          "S",
          "C",
          "C",
          "C",
          "M",
          "M",
          "C",
          "C",
          "C",
          "M",
          "C",
          "C",
          "C",
          "C",
          "C",
          "C",
          "B",
          "C",
          "B",
          "B",
          "C",
          "C",
          "M",
          "S",
          "C",
          "S",
          "C",
          "M",
          "M",
          "C",
          "C",
          "C",
          "C",
          "M",
          "S",
          "C",
          "C",
          "C",
          "C",
          "B",
          "B",
          "C",
          "C",
          "B",
          "C",
          "S",
          "M",
          "B",
          "S",
          "C",
          "C",
          "B",
          "M",
          "B",
          "C",
          "C",
          "C",
          "C",
          "C",
          "C",
          "C",
          "C",
          "C",
          "C",
          "M",
          "C",
          "C",
          "C",
          "C",
          "C",
          "S",
          "B",
          "C",
          "C",
          "S",
          "M",
          "C",
          "S",
          "C",
          "C",
          "S",
          "C",
          "C",
          "C",
          "C",
          "C",
          "C",
          "M",
          "S",
          "C",
          "S",
          "C",
          "S",
          "M",
          "C",
          "S",
          "M",
          "S",
          "C",
          "M",
          "S",
          "C",
          "C",
          "C",
          "C",
          "C",
          "C",
          "C",
          "C",
          "C",
          "C",
          "C",
          "M",
          "C",
          "C",
          "C",
          "B",
          "C",
          "C",
          "C",
          "C",
          "S",
          "C",
          "C",
          "M",
          "C",
          "C",
          "S",
          "C",
          "S",
          "M",
          "C",
          "S",
          "C",
          "C",
          "S",
          "B",
          "B",
          "B",
          "C",
          "B",
          "C",
          "C",
          "C",
          "C",
          "S",
          "C",
          "C",
          "M",
          "C",
          "C",
          "C",
          "M",
          "C",
          "C",
          "B",
          "B",
          "B",
          "S",
          "C",
          "C",
          "B",
          "C",
          "S",
          "C",
          "S",
          "C",
          "M",
          "S",
          "C",
          "C",
          "C",
          "B",
          "C",
          "C",
          "C",
          "C",
          "C",
          "B",
          "C",
          "M",
          "M",
          "C",
          "M",
          "C",
          "C",
          "C",
          "C",
          "C",
          "S",
          "C",
          "C",
          "B",
          "C",
          "B",
          "M",
          "M",
          "M",
          "S",
          "C",
          "C",
          "S",
          "C",
          "S",
          "C",
          "M",
          "C",
          "C",
          "M",
          "S",
          "C",
          "M",
          "B",
          "C",
          "C",
          "M",
          "M",
          "M",
          "C",
          "S",
          "S",
          "C",
          "C",
          "C",
          "C",
          "C",
          "C",
          "M",
          "C",
          "C",
          "C",
          "B",
          "C",
          "C",
          "C",
          "C",
          "C",
          "S",
          "B",
          "S",
          "C",
          "C",
          "S",
          "B",
          "C",
          "C",
          "S",
          "B",
          "C",
          "C",
          "S",
          "C",
          "M",
          "B",
          "C",
          "C",
          "C",
          "B",
          "S",
          "B",
          "M",
          "C",
          "C",
          "C",
          "M",
          "C",
          "C",
          "C",
          "M",
          "C",
          "C",
          "C",
          "C",
          "M",
          "C",
          "M",
          "B",
          "C",
          "M",
          "C",
          "C",
          "S",
          "S",
          "S",
          "C",
          "C",
          "C",
          "C",
          "S",
          "C",
          "S",
          "C",
          "C",
          "M",
          "C",
          "C",
          "M",
          "S",
          "C",
          "S",
          "B",
          "S",
          "B",
          "C",
          "C",
          "M",
          "C",
          "C",
          "C",
          "B",
          "C",
          "C",
          "C",
          "S",
          "C",
          "C",
          "S",
          "B",
          "C",
          "C",
          "S",
          "C",
          "C",
          "C",
          "B",
          "C",
          "B",
          "S",
          "B",
          "C",
          "C",
          "C",
          "C",
          "M",
          "M",
          "S",
          "C",
          "M",
          "C",
          "C",
          "B",
          "C",
          "C",
          "B",
          "S",
          "B",
          "C",
          "C",
          "M",
          "C",
          "C",
          "B",
          "C",
          "C",
          "C",
          "C",
          "C",
          "C",
          "C",
          "C",
          "C",
          "M",
          "M",
          "C",
          "C",
          "S",
          "C",
          "S",
          "C",
          "C",
          "C",
          "C",
          "C",
          "C",
          "B",
          "C",
          "C",
          "C",
          "B",
          "S",
          "C",
          "S",
          "C",
          "C",
          "B",
          "C",
          "C",
          "B",
          "C",
          "C",
          "B",
          "C",
          "C",
          "C",
          "B",
          "B",
          "C",
          "B",
          "S",
          "C",
          "C",
          "M",
          "C",
          "C",
          "C",
          "C",
          "S",
          "S",
          "C",
          "C",
          "C",
          "C",
          "B",
          "C",
          "S",
          "C",
          "C",
          "C",
          "C",
          "C",
          "C",
          "C",
          "C",
          "C",
          "C",
          "C",
          "B",
          "S",
          "B",
          "C",
          "M",
          "S",
          "B",
          "M",
          "C",
          "C",
          "C",
          "M",
          "M",
          "C",
          "C",
          "C",
          "C",
          "S",
          "C",
          "S",
          "S",
          "B",
          "C",
          "C",
          "S",
          "B",
          "B",
          "M",
          "C",
          "B",
          "B",
          "M",
          "C",
          "S",
          "C",
          "C",
          "C",
          "M",
          "C",
          "B",
          "B",
          "C",
          "B",
          "S",
          "C",
          "C",
          "C",
          "C",
          "C",
          "M",
          "C",
          "C",
          "C",
          "C",
          "C",
          "C",
          "B",
          "S",
          "C",
          "C",
          "M",
          "S",
          "B",
          "C",
          "C",
          "C",
          "M",
          "C",
          "C",
          "C",
          "C",
          "S",
          "B",
          "M",
          "B",
          "S",
          "C",
          "C",
          "C",
          "C",
          "M",
          "C",
          "C",
          "C",
          "C",
          "C",
          "C",
          "S",
          "C",
          "C",
          "C",
          "B",
          "C",
          "C",
          "C",
          "M",
          "S",
          "B",
          "C",
          "M",
          "C",
          "C",
          "B",
          "M",
          "B",
          "C",
          "S",
          "C",
          "C",
          "C",
          "C",
          "C",
          "C",
          "C",
          "C",
          "C",
          "C",
          "B",
          "B",
          "S",
          "C",
          "C",
          "C",
          "C",
          "B",
          "B",
          "C",
          "C",
          "C",
          "S",
          "M",
          "C",
          "M",
          "B",
          "B",
          "C",
          "B",
          "C",
          "C",
          "C",
          "S",
          "B",
          "M",
          "C",
          "S",
          "C",
          "C",
          "C",
          "C",
          "M",
          "B",
          "B",
          "C",
          "C",
          "C",
          "B",
          "C",
          "B",
          "C",
          "C",
          "C",
          "C",
          "C",
          "S",
          "S",
          "C",
          "S",
          "M",
          "B",
          "M",
          "C",
          "C",
          "S",
          "M",
          "C",
          "C",
          "C",
          "B",
          "B",
          "S",
          "S",
          "M",
          "C",
          "C",
          "C",
          "C",
          "S",
          "C",
          "S",
          "C",
          "M",
          "C",
          "M",
          "M",
          "C",
          "C",
          "M",
          "C",
          "S",
          "C",
          "C",
          "C",
          "C",
          "C",
          "M",
          "M",
          "C",
          "S",
          "S",
          "C",
          "C",
          "C",
          "C",
          "C",
          "S",
          "C",
          "C",
          "C",
          "S",
          "C",
          "C",
          "C",
          "M",
          "C",
          "C",
          "C",
          "C",
          "S",
          "S",
          "C",
          "B",
          "C",
          "C",
          "C",
          "C",
          "S",
          "S",
          "S",
          "C",
          "C",
          "B",
          "M",
          "C",
          "S",
          "M",
          "S",
          "S",
          "C",
          "C",
          "C",
          "B",
          "S",
          "B",
          "B",
          "B",
          "C",
          "C",
          "C",
          "C",
          "M",
          "B",
          "S",
          "C",
          "C",
          "C",
          "C",
          "B",
          "C",
          "C",
          "C",
          "S",
          "S",
          "C",
          "C",
          "C",
          "C",
          "M",
          "M",
          "C",
          "C",
          "S",
          "C",
          "C",
          "C",
          "C",
          "C",
          "C",
          "C",
          "C",
          "C",
          "S",
          "C",
          "C",
          "C",
          "C",
          "M",
          "C",
          "C",
          "C",
          "B",
          "S",
          "C",
          "C",
          "M",
          "S",
          "B",
          "B",
          "C",
          "C",
          "C",
          "C",
          "C",
          "C",
          "C",
          "C",
          "B",
          "M",
          "C",
          "M",
          "C",
          "C",
          "C",
          "C",
          "S",
          "C",
          "M",
          "C",
          "C",
          "C",
          "C",
          "C",
          "S",
          "C",
          "C",
          "B",
          "C",
          "C",
          "C",
          "C",
          "C",
          "S",
          "C",
          "C",
          "C",
          "C",
          "C",
          "C",
          "C",
          "C",
          "M",
          "C",
          "B",
          "S",
          "M",
          "M",
          "C",
          "C",
          "C",
          "M",
          "C",
          "C",
          "B",
          "C",
          "C",
          "M",
          "C",
          "M",
          "C",
          "C",
          "M",
          "B",
          "C",
          "S",
          "B",
          "C",
          "C",
          "C",
          "C",
          "B",
          "C",
          "C",
          "S",
          "M",
          "C",
          "M",
          "C",
          "B",
          "C",
          "C",
          "C",
          "C",
          "S",
          "C",
          "C",
          "C",
          "C",
          "B",
          "M",
          "C",
          "C",
          "C",
          "C",
          "S",
          "C",
          "C",
          "C",
          "C",
          "C",
          "M",
          "C",
          "S",
          "C",
          "M",
          "C",
          "M",
          "C",
          "M",
          "S",
          "B",
          "C",
          "S",
          "M",
          "M",
          "C",
          "C",
          "C",
          "B",
          "C",
          "C",
          "B",
          "C",
          "C",
          "C",
          "C",
          "C",
          "B",
          "B",
          "C",
          "C",
          "C",
          "S",
          "C",
          "C",
          "C",
          "B",
          "B",
          "M",
          "C",
          "B",
          "C",
          "C",
          "B",
          "C",
          "M",
          "C",
          "C",
          "C",
          "C",
          "B",
          "C",
          "C",
          "C",
          "M",
          "C",
          "C",
          "M",
          "C",
          "S",
          "C",
          "S",
          "C",
          "M",
          "B",
          "C",
          "B",
          "B",
          "C",
          "B",
          "C",
          "C",
          "C",
          "C",
          "C",
          "S",
          "M",
          "C",
          "S",
          "B",
          "C"
         ],
         "xaxis": "x",
         "yaxis": "y"
        }
       ],
       "layout": {
        "barmode": "relative",
        "legend": {
         "tracegroupgap": 0
        },
        "margin": {
         "t": 60
        },
        "template": {
         "data": {
          "bar": [
           {
            "error_x": {
             "color": "#2a3f5f"
            },
            "error_y": {
             "color": "#2a3f5f"
            },
            "marker": {
             "line": {
              "color": "#E5ECF6",
              "width": 0.5
             },
             "pattern": {
              "fillmode": "overlay",
              "size": 10,
              "solidity": 0.2
             }
            },
            "type": "bar"
           }
          ],
          "barpolar": [
           {
            "marker": {
             "line": {
              "color": "#E5ECF6",
              "width": 0.5
             },
             "pattern": {
              "fillmode": "overlay",
              "size": 10,
              "solidity": 0.2
             }
            },
            "type": "barpolar"
           }
          ],
          "carpet": [
           {
            "aaxis": {
             "endlinecolor": "#2a3f5f",
             "gridcolor": "white",
             "linecolor": "white",
             "minorgridcolor": "white",
             "startlinecolor": "#2a3f5f"
            },
            "baxis": {
             "endlinecolor": "#2a3f5f",
             "gridcolor": "white",
             "linecolor": "white",
             "minorgridcolor": "white",
             "startlinecolor": "#2a3f5f"
            },
            "type": "carpet"
           }
          ],
          "choropleth": [
           {
            "colorbar": {
             "outlinewidth": 0,
             "ticks": ""
            },
            "type": "choropleth"
           }
          ],
          "contour": [
           {
            "colorbar": {
             "outlinewidth": 0,
             "ticks": ""
            },
            "colorscale": [
             [
              0,
              "#0d0887"
             ],
             [
              0.1111111111111111,
              "#46039f"
             ],
             [
              0.2222222222222222,
              "#7201a8"
             ],
             [
              0.3333333333333333,
              "#9c179e"
             ],
             [
              0.4444444444444444,
              "#bd3786"
             ],
             [
              0.5555555555555556,
              "#d8576b"
             ],
             [
              0.6666666666666666,
              "#ed7953"
             ],
             [
              0.7777777777777778,
              "#fb9f3a"
             ],
             [
              0.8888888888888888,
              "#fdca26"
             ],
             [
              1,
              "#f0f921"
             ]
            ],
            "type": "contour"
           }
          ],
          "contourcarpet": [
           {
            "colorbar": {
             "outlinewidth": 0,
             "ticks": ""
            },
            "type": "contourcarpet"
           }
          ],
          "heatmap": [
           {
            "colorbar": {
             "outlinewidth": 0,
             "ticks": ""
            },
            "colorscale": [
             [
              0,
              "#0d0887"
             ],
             [
              0.1111111111111111,
              "#46039f"
             ],
             [
              0.2222222222222222,
              "#7201a8"
             ],
             [
              0.3333333333333333,
              "#9c179e"
             ],
             [
              0.4444444444444444,
              "#bd3786"
             ],
             [
              0.5555555555555556,
              "#d8576b"
             ],
             [
              0.6666666666666666,
              "#ed7953"
             ],
             [
              0.7777777777777778,
              "#fb9f3a"
             ],
             [
              0.8888888888888888,
              "#fdca26"
             ],
             [
              1,
              "#f0f921"
             ]
            ],
            "type": "heatmap"
           }
          ],
          "histogram": [
           {
            "marker": {
             "pattern": {
              "fillmode": "overlay",
              "size": 10,
              "solidity": 0.2
             }
            },
            "type": "histogram"
           }
          ],
          "histogram2d": [
           {
            "colorbar": {
             "outlinewidth": 0,
             "ticks": ""
            },
            "colorscale": [
             [
              0,
              "#0d0887"
             ],
             [
              0.1111111111111111,
              "#46039f"
             ],
             [
              0.2222222222222222,
              "#7201a8"
             ],
             [
              0.3333333333333333,
              "#9c179e"
             ],
             [
              0.4444444444444444,
              "#bd3786"
             ],
             [
              0.5555555555555556,
              "#d8576b"
             ],
             [
              0.6666666666666666,
              "#ed7953"
             ],
             [
              0.7777777777777778,
              "#fb9f3a"
             ],
             [
              0.8888888888888888,
              "#fdca26"
             ],
             [
              1,
              "#f0f921"
             ]
            ],
            "type": "histogram2d"
           }
          ],
          "histogram2dcontour": [
           {
            "colorbar": {
             "outlinewidth": 0,
             "ticks": ""
            },
            "colorscale": [
             [
              0,
              "#0d0887"
             ],
             [
              0.1111111111111111,
              "#46039f"
             ],
             [
              0.2222222222222222,
              "#7201a8"
             ],
             [
              0.3333333333333333,
              "#9c179e"
             ],
             [
              0.4444444444444444,
              "#bd3786"
             ],
             [
              0.5555555555555556,
              "#d8576b"
             ],
             [
              0.6666666666666666,
              "#ed7953"
             ],
             [
              0.7777777777777778,
              "#fb9f3a"
             ],
             [
              0.8888888888888888,
              "#fdca26"
             ],
             [
              1,
              "#f0f921"
             ]
            ],
            "type": "histogram2dcontour"
           }
          ],
          "mesh3d": [
           {
            "colorbar": {
             "outlinewidth": 0,
             "ticks": ""
            },
            "type": "mesh3d"
           }
          ],
          "parcoords": [
           {
            "line": {
             "colorbar": {
              "outlinewidth": 0,
              "ticks": ""
             }
            },
            "type": "parcoords"
           }
          ],
          "pie": [
           {
            "automargin": true,
            "type": "pie"
           }
          ],
          "scatter": [
           {
            "fillpattern": {
             "fillmode": "overlay",
             "size": 10,
             "solidity": 0.2
            },
            "type": "scatter"
           }
          ],
          "scatter3d": [
           {
            "line": {
             "colorbar": {
              "outlinewidth": 0,
              "ticks": ""
             }
            },
            "marker": {
             "colorbar": {
              "outlinewidth": 0,
              "ticks": ""
             }
            },
            "type": "scatter3d"
           }
          ],
          "scattercarpet": [
           {
            "marker": {
             "colorbar": {
              "outlinewidth": 0,
              "ticks": ""
             }
            },
            "type": "scattercarpet"
           }
          ],
          "scattergeo": [
           {
            "marker": {
             "colorbar": {
              "outlinewidth": 0,
              "ticks": ""
             }
            },
            "type": "scattergeo"
           }
          ],
          "scattergl": [
           {
            "marker": {
             "colorbar": {
              "outlinewidth": 0,
              "ticks": ""
             }
            },
            "type": "scattergl"
           }
          ],
          "scattermap": [
           {
            "marker": {
             "colorbar": {
              "outlinewidth": 0,
              "ticks": ""
             }
            },
            "type": "scattermap"
           }
          ],
          "scattermapbox": [
           {
            "marker": {
             "colorbar": {
              "outlinewidth": 0,
              "ticks": ""
             }
            },
            "type": "scattermapbox"
           }
          ],
          "scatterpolar": [
           {
            "marker": {
             "colorbar": {
              "outlinewidth": 0,
              "ticks": ""
             }
            },
            "type": "scatterpolar"
           }
          ],
          "scatterpolargl": [
           {
            "marker": {
             "colorbar": {
              "outlinewidth": 0,
              "ticks": ""
             }
            },
            "type": "scatterpolargl"
           }
          ],
          "scatterternary": [
           {
            "marker": {
             "colorbar": {
              "outlinewidth": 0,
              "ticks": ""
             }
            },
            "type": "scatterternary"
           }
          ],
          "surface": [
           {
            "colorbar": {
             "outlinewidth": 0,
             "ticks": ""
            },
            "colorscale": [
             [
              0,
              "#0d0887"
             ],
             [
              0.1111111111111111,
              "#46039f"
             ],
             [
              0.2222222222222222,
              "#7201a8"
             ],
             [
              0.3333333333333333,
              "#9c179e"
             ],
             [
              0.4444444444444444,
              "#bd3786"
             ],
             [
              0.5555555555555556,
              "#d8576b"
             ],
             [
              0.6666666666666666,
              "#ed7953"
             ],
             [
              0.7777777777777778,
              "#fb9f3a"
             ],
             [
              0.8888888888888888,
              "#fdca26"
             ],
             [
              1,
              "#f0f921"
             ]
            ],
            "type": "surface"
           }
          ],
          "table": [
           {
            "cells": {
             "fill": {
              "color": "#EBF0F8"
             },
             "line": {
              "color": "white"
             }
            },
            "header": {
             "fill": {
              "color": "#C8D4E3"
             },
             "line": {
              "color": "white"
             }
            },
            "type": "table"
           }
          ]
         },
         "layout": {
          "annotationdefaults": {
           "arrowcolor": "#2a3f5f",
           "arrowhead": 0,
           "arrowwidth": 1
          },
          "autotypenumbers": "strict",
          "coloraxis": {
           "colorbar": {
            "outlinewidth": 0,
            "ticks": ""
           }
          },
          "colorscale": {
           "diverging": [
            [
             0,
             "#8e0152"
            ],
            [
             0.1,
             "#c51b7d"
            ],
            [
             0.2,
             "#de77ae"
            ],
            [
             0.3,
             "#f1b6da"
            ],
            [
             0.4,
             "#fde0ef"
            ],
            [
             0.5,
             "#f7f7f7"
            ],
            [
             0.6,
             "#e6f5d0"
            ],
            [
             0.7,
             "#b8e186"
            ],
            [
             0.8,
             "#7fbc41"
            ],
            [
             0.9,
             "#4d9221"
            ],
            [
             1,
             "#276419"
            ]
           ],
           "sequential": [
            [
             0,
             "#0d0887"
            ],
            [
             0.1111111111111111,
             "#46039f"
            ],
            [
             0.2222222222222222,
             "#7201a8"
            ],
            [
             0.3333333333333333,
             "#9c179e"
            ],
            [
             0.4444444444444444,
             "#bd3786"
            ],
            [
             0.5555555555555556,
             "#d8576b"
            ],
            [
             0.6666666666666666,
             "#ed7953"
            ],
            [
             0.7777777777777778,
             "#fb9f3a"
            ],
            [
             0.8888888888888888,
             "#fdca26"
            ],
            [
             1,
             "#f0f921"
            ]
           ],
           "sequentialminus": [
            [
             0,
             "#0d0887"
            ],
            [
             0.1111111111111111,
             "#46039f"
            ],
            [
             0.2222222222222222,
             "#7201a8"
            ],
            [
             0.3333333333333333,
             "#9c179e"
            ],
            [
             0.4444444444444444,
             "#bd3786"
            ],
            [
             0.5555555555555556,
             "#d8576b"
            ],
            [
             0.6666666666666666,
             "#ed7953"
            ],
            [
             0.7777777777777778,
             "#fb9f3a"
            ],
            [
             0.8888888888888888,
             "#fdca26"
            ],
            [
             1,
             "#f0f921"
            ]
           ]
          },
          "colorway": [
           "#636efa",
           "#EF553B",
           "#00cc96",
           "#ab63fa",
           "#FFA15A",
           "#19d3f3",
           "#FF6692",
           "#B6E880",
           "#FF97FF",
           "#FECB52"
          ],
          "font": {
           "color": "#2a3f5f"
          },
          "geo": {
           "bgcolor": "white",
           "lakecolor": "white",
           "landcolor": "#E5ECF6",
           "showlakes": true,
           "showland": true,
           "subunitcolor": "white"
          },
          "hoverlabel": {
           "align": "left"
          },
          "hovermode": "closest",
          "mapbox": {
           "style": "light"
          },
          "paper_bgcolor": "white",
          "plot_bgcolor": "#E5ECF6",
          "polar": {
           "angularaxis": {
            "gridcolor": "white",
            "linecolor": "white",
            "ticks": ""
           },
           "bgcolor": "#E5ECF6",
           "radialaxis": {
            "gridcolor": "white",
            "linecolor": "white",
            "ticks": ""
           }
          },
          "scene": {
           "xaxis": {
            "backgroundcolor": "#E5ECF6",
            "gridcolor": "white",
            "gridwidth": 2,
            "linecolor": "white",
            "showbackground": true,
            "ticks": "",
            "zerolinecolor": "white"
           },
           "yaxis": {
            "backgroundcolor": "#E5ECF6",
            "gridcolor": "white",
            "gridwidth": 2,
            "linecolor": "white",
            "showbackground": true,
            "ticks": "",
            "zerolinecolor": "white"
           },
           "zaxis": {
            "backgroundcolor": "#E5ECF6",
            "gridcolor": "white",
            "gridwidth": 2,
            "linecolor": "white",
            "showbackground": true,
            "ticks": "",
            "zerolinecolor": "white"
           }
          },
          "shapedefaults": {
           "line": {
            "color": "#2a3f5f"
           }
          },
          "ternary": {
           "aaxis": {
            "gridcolor": "white",
            "linecolor": "white",
            "ticks": ""
           },
           "baxis": {
            "gridcolor": "white",
            "linecolor": "white",
            "ticks": ""
           },
           "bgcolor": "#E5ECF6",
           "caxis": {
            "gridcolor": "white",
            "linecolor": "white",
            "ticks": ""
           }
          },
          "title": {
           "x": 0.05
          },
          "xaxis": {
           "automargin": true,
           "gridcolor": "white",
           "linecolor": "white",
           "ticks": "",
           "title": {
            "standoff": 15
           },
           "zerolinecolor": "white",
           "zerolinewidth": 2
          },
          "yaxis": {
           "automargin": true,
           "gridcolor": "white",
           "linecolor": "white",
           "ticks": "",
           "title": {
            "standoff": 15
           },
           "zerolinecolor": "white",
           "zerolinewidth": 2
          }
         }
        },
        "xaxis": {
         "anchor": "y",
         "domain": [
          0,
          1
         ],
         "title": {
          "text": "winner"
         }
        },
        "yaxis": {
         "anchor": "x",
         "domain": [
          0,
          1
         ],
         "title": {
          "text": "count"
         }
        }
       }
      }
     },
     "metadata": {},
     "output_type": "display_data"
    }
   ],
   "source": [
    "df_game_result[df_game_result[\"C\"] != GameResult.FINISHED.name]\n",
    "px.histogram(df_game_result, \"winner\")\n"
   ]
  },
  {
   "cell_type": "code",
   "execution_count": null,
   "id": "d961e571",
   "metadata": {},
   "outputs": [
    {
     "data": {
      "application/vnd.plotly.v1+json": {
       "config": {
        "plotlyServerURL": "https://plot.ly"
       },
       "data": [
        {
         "bingroup": "x",
         "hovertemplate": "end_epoch=%{x}<br>count=%{y}<extra></extra>",
         "legendgroup": "",
         "marker": {
          "color": "#636efa",
          "pattern": {
           "shape": ""
          }
         },
         "name": "",
         "nbinsx": 59,
         "orientation": "v",
         "showlegend": false,
         "type": "histogram",
         "x": {
          "bdata": "LzACCwovKikrDi4LLy8hLBQvKysOLysvHCszLi4yBSwsLCMuKC8nGwsTLC4ILSQZMC0vLSIvGSsmLC8iCywrNCg3HgUtCCUEMS0SBRYtLAoOLTAEGygHMAkwKBoNLSwGBi0vBDYmLi0yFjgrJgg0NjQqDioIFzYnIg42LCgoOSknHy4vKCEaLCwwMS8qISwELBMrMigsLCoSMSsoKjItKisQJC8CKC0gLi4JCCssBi0pLi00JTInByopMDEJEx4FJzMtMwwoNCkuKzsrESk4BQokLTIoMiYsGisrAiYtKi8YITo0MwsiLAwvKykRKSsKLiwuJBMrKCYsKiQyLCsIDQ8vLzEdGhAtBSouMi0CNzMLMSkvLjIyLS0xJi0uMiYsLAQqNRIuJwksKC8zKywxCSgnNx8KMhsEMwYCHjUuMistKisrKionMSguMyooKzQpMSkrMAQsKysoKgI1DSspKwUwLQgzBysXKioqLS4CKCYnKzAsNi4pLRYILwQ4LiUqKyYsIgcoLSQGLiYvLScmNCMpKQUFMCozMSo1LSckNA4SLC8pKjMuDTcpKDEqJCUOLCcuLS4qESYzMDErLxMuLjETKw8tNSkrJQ4wLhwtDi0qDCsGLiUwCigMLCYxLzIiJAclKyQwLi8aDS8kKS0vBjQoLykKLiAqBSIuMBouBjgmLCstJyErBjEsKi0rJwQJMDgrKy8PDiglJysrKTAuLig2MCsmBCMlMikrCjEvPSwwDTEwKiwMLSQkMScnKCojLC44CS0xMicuKigtJTQMMAgsBy4rLi0uCTcrLQwrMS4uBC0VCCwoLQUrLgQtLygCLiwOMikoKQ0JAisoKSwqMCo1DysmKC4qEC4sKSwuMCAHIAQ5LygxLSwtKxwgNAQpCismJTAoKSgzLikrLgkIKisuKSktPDExEiMJKQktNC8zLSkpByw6Bx8JBictMiUqMCsGCSsqLwIxKgsKECsfLQIGKigFKg0HBwUjKC4oLDEjKSMtKi8yJRYsKykmKSYFBQ4tJScOKQYtJy4vDiwqKiosLy4qBQgpAgswLi8EKiwwJDEOLy4pLjMzKioHMiwqJS4HCissLDsxDycsMigZMi4LIDIoKjA2CRMuKiIkNTEwByEtKz0EJyosNS8uDiUsKC4tLA0qFS0sBy4tKi8GLC4nCS4vCBopLysrCigoLi4LMy4sMi0oEi0zKy4pOCwsLDIsLTMXGC8PIwQsBCk5Ky4rMC80LiwCHiQqDS0TBzMvMC0tAg8QJwQwLygnKhAzLy0pNS8yKSwuKS4KBjAQLzALKDkuBCwlMCsvNygFGCwJFCkrFCcqBQ==",
          "dtype": "i1"
         },
         "xaxis": "x",
         "yaxis": "y"
        }
       ],
       "layout": {
        "barmode": "relative",
        "legend": {
         "tracegroupgap": 0
        },
        "margin": {
         "t": 60
        },
        "template": {
         "data": {
          "bar": [
           {
            "error_x": {
             "color": "#2a3f5f"
            },
            "error_y": {
             "color": "#2a3f5f"
            },
            "marker": {
             "line": {
              "color": "#E5ECF6",
              "width": 0.5
             },
             "pattern": {
              "fillmode": "overlay",
              "size": 10,
              "solidity": 0.2
             }
            },
            "type": "bar"
           }
          ],
          "barpolar": [
           {
            "marker": {
             "line": {
              "color": "#E5ECF6",
              "width": 0.5
             },
             "pattern": {
              "fillmode": "overlay",
              "size": 10,
              "solidity": 0.2
             }
            },
            "type": "barpolar"
           }
          ],
          "carpet": [
           {
            "aaxis": {
             "endlinecolor": "#2a3f5f",
             "gridcolor": "white",
             "linecolor": "white",
             "minorgridcolor": "white",
             "startlinecolor": "#2a3f5f"
            },
            "baxis": {
             "endlinecolor": "#2a3f5f",
             "gridcolor": "white",
             "linecolor": "white",
             "minorgridcolor": "white",
             "startlinecolor": "#2a3f5f"
            },
            "type": "carpet"
           }
          ],
          "choropleth": [
           {
            "colorbar": {
             "outlinewidth": 0,
             "ticks": ""
            },
            "type": "choropleth"
           }
          ],
          "contour": [
           {
            "colorbar": {
             "outlinewidth": 0,
             "ticks": ""
            },
            "colorscale": [
             [
              0,
              "#0d0887"
             ],
             [
              0.1111111111111111,
              "#46039f"
             ],
             [
              0.2222222222222222,
              "#7201a8"
             ],
             [
              0.3333333333333333,
              "#9c179e"
             ],
             [
              0.4444444444444444,
              "#bd3786"
             ],
             [
              0.5555555555555556,
              "#d8576b"
             ],
             [
              0.6666666666666666,
              "#ed7953"
             ],
             [
              0.7777777777777778,
              "#fb9f3a"
             ],
             [
              0.8888888888888888,
              "#fdca26"
             ],
             [
              1,
              "#f0f921"
             ]
            ],
            "type": "contour"
           }
          ],
          "contourcarpet": [
           {
            "colorbar": {
             "outlinewidth": 0,
             "ticks": ""
            },
            "type": "contourcarpet"
           }
          ],
          "heatmap": [
           {
            "colorbar": {
             "outlinewidth": 0,
             "ticks": ""
            },
            "colorscale": [
             [
              0,
              "#0d0887"
             ],
             [
              0.1111111111111111,
              "#46039f"
             ],
             [
              0.2222222222222222,
              "#7201a8"
             ],
             [
              0.3333333333333333,
              "#9c179e"
             ],
             [
              0.4444444444444444,
              "#bd3786"
             ],
             [
              0.5555555555555556,
              "#d8576b"
             ],
             [
              0.6666666666666666,
              "#ed7953"
             ],
             [
              0.7777777777777778,
              "#fb9f3a"
             ],
             [
              0.8888888888888888,
              "#fdca26"
             ],
             [
              1,
              "#f0f921"
             ]
            ],
            "type": "heatmap"
           }
          ],
          "histogram": [
           {
            "marker": {
             "pattern": {
              "fillmode": "overlay",
              "size": 10,
              "solidity": 0.2
             }
            },
            "type": "histogram"
           }
          ],
          "histogram2d": [
           {
            "colorbar": {
             "outlinewidth": 0,
             "ticks": ""
            },
            "colorscale": [
             [
              0,
              "#0d0887"
             ],
             [
              0.1111111111111111,
              "#46039f"
             ],
             [
              0.2222222222222222,
              "#7201a8"
             ],
             [
              0.3333333333333333,
              "#9c179e"
             ],
             [
              0.4444444444444444,
              "#bd3786"
             ],
             [
              0.5555555555555556,
              "#d8576b"
             ],
             [
              0.6666666666666666,
              "#ed7953"
             ],
             [
              0.7777777777777778,
              "#fb9f3a"
             ],
             [
              0.8888888888888888,
              "#fdca26"
             ],
             [
              1,
              "#f0f921"
             ]
            ],
            "type": "histogram2d"
           }
          ],
          "histogram2dcontour": [
           {
            "colorbar": {
             "outlinewidth": 0,
             "ticks": ""
            },
            "colorscale": [
             [
              0,
              "#0d0887"
             ],
             [
              0.1111111111111111,
              "#46039f"
             ],
             [
              0.2222222222222222,
              "#7201a8"
             ],
             [
              0.3333333333333333,
              "#9c179e"
             ],
             [
              0.4444444444444444,
              "#bd3786"
             ],
             [
              0.5555555555555556,
              "#d8576b"
             ],
             [
              0.6666666666666666,
              "#ed7953"
             ],
             [
              0.7777777777777778,
              "#fb9f3a"
             ],
             [
              0.8888888888888888,
              "#fdca26"
             ],
             [
              1,
              "#f0f921"
             ]
            ],
            "type": "histogram2dcontour"
           }
          ],
          "mesh3d": [
           {
            "colorbar": {
             "outlinewidth": 0,
             "ticks": ""
            },
            "type": "mesh3d"
           }
          ],
          "parcoords": [
           {
            "line": {
             "colorbar": {
              "outlinewidth": 0,
              "ticks": ""
             }
            },
            "type": "parcoords"
           }
          ],
          "pie": [
           {
            "automargin": true,
            "type": "pie"
           }
          ],
          "scatter": [
           {
            "fillpattern": {
             "fillmode": "overlay",
             "size": 10,
             "solidity": 0.2
            },
            "type": "scatter"
           }
          ],
          "scatter3d": [
           {
            "line": {
             "colorbar": {
              "outlinewidth": 0,
              "ticks": ""
             }
            },
            "marker": {
             "colorbar": {
              "outlinewidth": 0,
              "ticks": ""
             }
            },
            "type": "scatter3d"
           }
          ],
          "scattercarpet": [
           {
            "marker": {
             "colorbar": {
              "outlinewidth": 0,
              "ticks": ""
             }
            },
            "type": "scattercarpet"
           }
          ],
          "scattergeo": [
           {
            "marker": {
             "colorbar": {
              "outlinewidth": 0,
              "ticks": ""
             }
            },
            "type": "scattergeo"
           }
          ],
          "scattergl": [
           {
            "marker": {
             "colorbar": {
              "outlinewidth": 0,
              "ticks": ""
             }
            },
            "type": "scattergl"
           }
          ],
          "scattermap": [
           {
            "marker": {
             "colorbar": {
              "outlinewidth": 0,
              "ticks": ""
             }
            },
            "type": "scattermap"
           }
          ],
          "scattermapbox": [
           {
            "marker": {
             "colorbar": {
              "outlinewidth": 0,
              "ticks": ""
             }
            },
            "type": "scattermapbox"
           }
          ],
          "scatterpolar": [
           {
            "marker": {
             "colorbar": {
              "outlinewidth": 0,
              "ticks": ""
             }
            },
            "type": "scatterpolar"
           }
          ],
          "scatterpolargl": [
           {
            "marker": {
             "colorbar": {
              "outlinewidth": 0,
              "ticks": ""
             }
            },
            "type": "scatterpolargl"
           }
          ],
          "scatterternary": [
           {
            "marker": {
             "colorbar": {
              "outlinewidth": 0,
              "ticks": ""
             }
            },
            "type": "scatterternary"
           }
          ],
          "surface": [
           {
            "colorbar": {
             "outlinewidth": 0,
             "ticks": ""
            },
            "colorscale": [
             [
              0,
              "#0d0887"
             ],
             [
              0.1111111111111111,
              "#46039f"
             ],
             [
              0.2222222222222222,
              "#7201a8"
             ],
             [
              0.3333333333333333,
              "#9c179e"
             ],
             [
              0.4444444444444444,
              "#bd3786"
             ],
             [
              0.5555555555555556,
              "#d8576b"
             ],
             [
              0.6666666666666666,
              "#ed7953"
             ],
             [
              0.7777777777777778,
              "#fb9f3a"
             ],
             [
              0.8888888888888888,
              "#fdca26"
             ],
             [
              1,
              "#f0f921"
             ]
            ],
            "type": "surface"
           }
          ],
          "table": [
           {
            "cells": {
             "fill": {
              "color": "#EBF0F8"
             },
             "line": {
              "color": "white"
             }
            },
            "header": {
             "fill": {
              "color": "#C8D4E3"
             },
             "line": {
              "color": "white"
             }
            },
            "type": "table"
           }
          ]
         },
         "layout": {
          "annotationdefaults": {
           "arrowcolor": "#2a3f5f",
           "arrowhead": 0,
           "arrowwidth": 1
          },
          "autotypenumbers": "strict",
          "coloraxis": {
           "colorbar": {
            "outlinewidth": 0,
            "ticks": ""
           }
          },
          "colorscale": {
           "diverging": [
            [
             0,
             "#8e0152"
            ],
            [
             0.1,
             "#c51b7d"
            ],
            [
             0.2,
             "#de77ae"
            ],
            [
             0.3,
             "#f1b6da"
            ],
            [
             0.4,
             "#fde0ef"
            ],
            [
             0.5,
             "#f7f7f7"
            ],
            [
             0.6,
             "#e6f5d0"
            ],
            [
             0.7,
             "#b8e186"
            ],
            [
             0.8,
             "#7fbc41"
            ],
            [
             0.9,
             "#4d9221"
            ],
            [
             1,
             "#276419"
            ]
           ],
           "sequential": [
            [
             0,
             "#0d0887"
            ],
            [
             0.1111111111111111,
             "#46039f"
            ],
            [
             0.2222222222222222,
             "#7201a8"
            ],
            [
             0.3333333333333333,
             "#9c179e"
            ],
            [
             0.4444444444444444,
             "#bd3786"
            ],
            [
             0.5555555555555556,
             "#d8576b"
            ],
            [
             0.6666666666666666,
             "#ed7953"
            ],
            [
             0.7777777777777778,
             "#fb9f3a"
            ],
            [
             0.8888888888888888,
             "#fdca26"
            ],
            [
             1,
             "#f0f921"
            ]
           ],
           "sequentialminus": [
            [
             0,
             "#0d0887"
            ],
            [
             0.1111111111111111,
             "#46039f"
            ],
            [
             0.2222222222222222,
             "#7201a8"
            ],
            [
             0.3333333333333333,
             "#9c179e"
            ],
            [
             0.4444444444444444,
             "#bd3786"
            ],
            [
             0.5555555555555556,
             "#d8576b"
            ],
            [
             0.6666666666666666,
             "#ed7953"
            ],
            [
             0.7777777777777778,
             "#fb9f3a"
            ],
            [
             0.8888888888888888,
             "#fdca26"
            ],
            [
             1,
             "#f0f921"
            ]
           ]
          },
          "colorway": [
           "#636efa",
           "#EF553B",
           "#00cc96",
           "#ab63fa",
           "#FFA15A",
           "#19d3f3",
           "#FF6692",
           "#B6E880",
           "#FF97FF",
           "#FECB52"
          ],
          "font": {
           "color": "#2a3f5f"
          },
          "geo": {
           "bgcolor": "white",
           "lakecolor": "white",
           "landcolor": "#E5ECF6",
           "showlakes": true,
           "showland": true,
           "subunitcolor": "white"
          },
          "hoverlabel": {
           "align": "left"
          },
          "hovermode": "closest",
          "mapbox": {
           "style": "light"
          },
          "paper_bgcolor": "white",
          "plot_bgcolor": "#E5ECF6",
          "polar": {
           "angularaxis": {
            "gridcolor": "white",
            "linecolor": "white",
            "ticks": ""
           },
           "bgcolor": "#E5ECF6",
           "radialaxis": {
            "gridcolor": "white",
            "linecolor": "white",
            "ticks": ""
           }
          },
          "scene": {
           "xaxis": {
            "backgroundcolor": "#E5ECF6",
            "gridcolor": "white",
            "gridwidth": 2,
            "linecolor": "white",
            "showbackground": true,
            "ticks": "",
            "zerolinecolor": "white"
           },
           "yaxis": {
            "backgroundcolor": "#E5ECF6",
            "gridcolor": "white",
            "gridwidth": 2,
            "linecolor": "white",
            "showbackground": true,
            "ticks": "",
            "zerolinecolor": "white"
           },
           "zaxis": {
            "backgroundcolor": "#E5ECF6",
            "gridcolor": "white",
            "gridwidth": 2,
            "linecolor": "white",
            "showbackground": true,
            "ticks": "",
            "zerolinecolor": "white"
           }
          },
          "shapedefaults": {
           "line": {
            "color": "#2a3f5f"
           }
          },
          "ternary": {
           "aaxis": {
            "gridcolor": "white",
            "linecolor": "white",
            "ticks": ""
           },
           "baxis": {
            "gridcolor": "white",
            "linecolor": "white",
            "ticks": ""
           },
           "bgcolor": "#E5ECF6",
           "caxis": {
            "gridcolor": "white",
            "linecolor": "white",
            "ticks": ""
           }
          },
          "title": {
           "x": 0.05
          },
          "xaxis": {
           "automargin": true,
           "gridcolor": "white",
           "linecolor": "white",
           "ticks": "",
           "title": {
            "standoff": 15
           },
           "zerolinecolor": "white",
           "zerolinewidth": 2
          },
          "yaxis": {
           "automargin": true,
           "gridcolor": "white",
           "linecolor": "white",
           "ticks": "",
           "title": {
            "standoff": 15
           },
           "zerolinecolor": "white",
           "zerolinewidth": 2
          }
         }
        },
        "xaxis": {
         "anchor": "y",
         "domain": [
          0,
          1
         ],
         "title": {
          "text": "end_epoch"
         }
        },
        "yaxis": {
         "anchor": "x",
         "domain": [
          0,
          1
         ],
         "title": {
          "text": "count"
         }
        }
       }
      }
     },
     "metadata": {},
     "output_type": "display_data"
    }
   ],
   "source": [
    "px.histogram(df_game_result, x=\"end_epoch\", nbins=len(df_game_result.end_epoch.unique()))"
   ]
  },
  {
   "cell_type": "code",
   "execution_count": null,
   "id": "3ded2af3",
   "metadata": {},
   "outputs": [],
   "source": []
  }
 ],
 "metadata": {
  "kernelspec": {
   "display_name": "py3_12",
   "language": "python",
   "name": "python3"
  },
  "language_info": {
   "codemirror_mode": {
    "name": "ipython",
    "version": 3
   },
   "file_extension": ".py",
   "mimetype": "text/x-python",
   "name": "python",
   "nbconvert_exporter": "python",
   "pygments_lexer": "ipython3",
   "version": "3.12.3"
  }
 },
 "nbformat": 4,
 "nbformat_minor": 5
}
