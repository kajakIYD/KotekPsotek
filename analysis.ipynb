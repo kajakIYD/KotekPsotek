{
 "cells": [
  {
   "cell_type": "code",
   "execution_count": 2,
   "id": "23e595d1",
   "metadata": {},
   "outputs": [],
   "source": [
    "import pandas as pd\n",
    "\n",
    "import plotly.express as px\n",
    "\n",
    "from main import GameResult"
   ]
  },
  {
   "cell_type": "code",
   "execution_count": 9,
   "id": "33084be2",
   "metadata": {},
   "outputs": [],
   "source": [
    "def _sanity_check(x, CAT, animal_cols):\n",
    "    cat_finished = x[CAT] == GameResult.FINISHED.name\n",
    "    any_animal_finished = any(x[col] == GameResult.FINISHED.name for col in animal_cols)\n",
    "    all_animals_chased = all(x[col] == GameResult.CHASED.name for col in animal_cols)\n",
    "    assert cat_finished != any_animal_finished\n",
    "    if any_animal_finished or all_animals_chased:\n",
    "        assert any_animal_finished != all_animals_chased\n",
    "\n",
    "\n",
    "def get_winner(x):\n",
    "    CAT = \"C\"\n",
    "    animal_cols = [\"B\", \"S\", \"M\"]\n",
    "    _sanity_check(x, CAT, animal_cols)\n",
    "    result = None\n",
    "    for col in [CAT] + animal_cols:\n",
    "        if x[col] == GameResult.FINISHED.name:\n",
    "            if result is None:\n",
    "                result = col\n",
    "            else:\n",
    "                raise ValueError(f\"W? {result=}\")\n",
    "    return result"
   ]
  },
  {
   "cell_type": "code",
   "execution_count": 10,
   "id": "237b0088",
   "metadata": {},
   "outputs": [
    {
     "data": {
      "text/html": [
       "<div>\n",
       "<style scoped>\n",
       "    .dataframe tbody tr th:only-of-type {\n",
       "        vertical-align: middle;\n",
       "    }\n",
       "\n",
       "    .dataframe tbody tr th {\n",
       "        vertical-align: top;\n",
       "    }\n",
       "\n",
       "    .dataframe thead th {\n",
       "        text-align: right;\n",
       "    }\n",
       "</style>\n",
       "<table border=\"1\" class=\"dataframe\">\n",
       "  <thead>\n",
       "    <tr style=\"text-align: right;\">\n",
       "      <th></th>\n",
       "      <th>epoch</th>\n",
       "      <th>position</th>\n",
       "      <th>game_result</th>\n",
       "      <th>shortcut_position</th>\n",
       "      <th>snacks_cnt</th>\n",
       "      <th>game_id</th>\n",
       "      <th>max_num_snacks</th>\n",
       "      <th>timestamp</th>\n",
       "    </tr>\n",
       "  </thead>\n",
       "  <tbody>\n",
       "    <tr>\n",
       "      <th>count</th>\n",
       "      <td>2.323456e+06</td>\n",
       "      <td>2.323456e+06</td>\n",
       "      <td>2.323456e+06</td>\n",
       "      <td>1.742592e+06</td>\n",
       "      <td>580864.000000</td>\n",
       "      <td>2.323456e+06</td>\n",
       "      <td>2.323456e+06</td>\n",
       "      <td>2.323456e+06</td>\n",
       "    </tr>\n",
       "    <tr>\n",
       "      <th>mean</th>\n",
       "      <td>3.386402e+01</td>\n",
       "      <td>1.860397e+01</td>\n",
       "      <td>-4.063369e-01</td>\n",
       "      <td>2.100000e+01</td>\n",
       "      <td>-0.765558</td>\n",
       "      <td>5.507916e+03</td>\n",
       "      <td>3.014143e+00</td>\n",
       "      <td>1.748333e+12</td>\n",
       "    </tr>\n",
       "    <tr>\n",
       "      <th>std</th>\n",
       "      <td>2.513931e+01</td>\n",
       "      <td>1.302227e+01</td>\n",
       "      <td>6.141947e+00</td>\n",
       "      <td>8.164968e+00</td>\n",
       "      <td>3.893207</td>\n",
       "      <td>2.669394e+03</td>\n",
       "      <td>1.609090e+00</td>\n",
       "      <td>6.503353e+04</td>\n",
       "    </tr>\n",
       "    <tr>\n",
       "      <th>min</th>\n",
       "      <td>-1.000000e+00</td>\n",
       "      <td>0.000000e+00</td>\n",
       "      <td>-2.000000e+00</td>\n",
       "      <td>1.100000e+01</td>\n",
       "      <td>-39.000000</td>\n",
       "      <td>0.000000e+00</td>\n",
       "      <td>0.000000e+00</td>\n",
       "      <td>1.748333e+12</td>\n",
       "    </tr>\n",
       "    <tr>\n",
       "      <th>25%</th>\n",
       "      <td>1.400000e+01</td>\n",
       "      <td>7.000000e+00</td>\n",
       "      <td>-1.000000e+00</td>\n",
       "      <td>1.100000e+01</td>\n",
       "      <td>-1.000000</td>\n",
       "      <td>3.495000e+03</td>\n",
       "      <td>3.000000e+00</td>\n",
       "      <td>1.748333e+12</td>\n",
       "    </tr>\n",
       "    <tr>\n",
       "      <th>50%</th>\n",
       "      <td>3.000000e+01</td>\n",
       "      <td>1.600000e+01</td>\n",
       "      <td>-1.000000e+00</td>\n",
       "      <td>2.100000e+01</td>\n",
       "      <td>0.000000</td>\n",
       "      <td>5.848000e+03</td>\n",
       "      <td>3.000000e+00</td>\n",
       "      <td>1.748333e+12</td>\n",
       "    </tr>\n",
       "    <tr>\n",
       "      <th>75%</th>\n",
       "      <td>4.900000e+01</td>\n",
       "      <td>2.800000e+01</td>\n",
       "      <td>-1.000000e+00</td>\n",
       "      <td>3.100000e+01</td>\n",
       "      <td>1.000000</td>\n",
       "      <td>7.662000e+03</td>\n",
       "      <td>4.000000e+00</td>\n",
       "      <td>1.748333e+12</td>\n",
       "    </tr>\n",
       "    <tr>\n",
       "      <th>max</th>\n",
       "      <td>1.240000e+02</td>\n",
       "      <td>5.000000e+01</td>\n",
       "      <td>5.000000e+01</td>\n",
       "      <td>3.100000e+01</td>\n",
       "      <td>5.000000</td>\n",
       "      <td>9.726000e+03</td>\n",
       "      <td>5.000000e+00</td>\n",
       "      <td>1.748333e+12</td>\n",
       "    </tr>\n",
       "  </tbody>\n",
       "</table>\n",
       "</div>"
      ],
      "text/plain": [
       "              epoch      position   game_result  shortcut_position  \\\n",
       "count  2.323456e+06  2.323456e+06  2.323456e+06       1.742592e+06   \n",
       "mean   3.386402e+01  1.860397e+01 -4.063369e-01       2.100000e+01   \n",
       "std    2.513931e+01  1.302227e+01  6.141947e+00       8.164968e+00   \n",
       "min   -1.000000e+00  0.000000e+00 -2.000000e+00       1.100000e+01   \n",
       "25%    1.400000e+01  7.000000e+00 -1.000000e+00       1.100000e+01   \n",
       "50%    3.000000e+01  1.600000e+01 -1.000000e+00       2.100000e+01   \n",
       "75%    4.900000e+01  2.800000e+01 -1.000000e+00       3.100000e+01   \n",
       "max    1.240000e+02  5.000000e+01  5.000000e+01       3.100000e+01   \n",
       "\n",
       "          snacks_cnt       game_id  max_num_snacks     timestamp  \n",
       "count  580864.000000  2.323456e+06    2.323456e+06  2.323456e+06  \n",
       "mean       -0.765558  5.507916e+03    3.014143e+00  1.748333e+12  \n",
       "std         3.893207  2.669394e+03    1.609090e+00  6.503353e+04  \n",
       "min       -39.000000  0.000000e+00    0.000000e+00  1.748333e+12  \n",
       "25%        -1.000000  3.495000e+03    3.000000e+00  1.748333e+12  \n",
       "50%         0.000000  5.848000e+03    3.000000e+00  1.748333e+12  \n",
       "75%         1.000000  7.662000e+03    4.000000e+00  1.748333e+12  \n",
       "max         5.000000  9.726000e+03    5.000000e+00  1.748333e+12  "
      ]
     },
     "metadata": {},
     "output_type": "display_data"
    },
    {
     "data": {
      "text/html": [
       "<div>\n",
       "<style scoped>\n",
       "    .dataframe tbody tr th:only-of-type {\n",
       "        vertical-align: middle;\n",
       "    }\n",
       "\n",
       "    .dataframe tbody tr th {\n",
       "        vertical-align: top;\n",
       "    }\n",
       "\n",
       "    .dataframe thead tr th {\n",
       "        text-align: left;\n",
       "    }\n",
       "\n",
       "    .dataframe thead tr:last-of-type th {\n",
       "        text-align: right;\n",
       "    }\n",
       "</style>\n",
       "<table border=\"1\" class=\"dataframe\">\n",
       "  <thead>\n",
       "    <tr>\n",
       "      <th></th>\n",
       "      <th colspan=\"8\" halign=\"left\">epoch</th>\n",
       "      <th colspan=\"2\" halign=\"left\">position</th>\n",
       "      <th>...</th>\n",
       "      <th colspan=\"2\" halign=\"left\">max_num_snacks</th>\n",
       "      <th colspan=\"8\" halign=\"left\">timestamp</th>\n",
       "    </tr>\n",
       "    <tr>\n",
       "      <th></th>\n",
       "      <th>count</th>\n",
       "      <th>mean</th>\n",
       "      <th>std</th>\n",
       "      <th>min</th>\n",
       "      <th>25%</th>\n",
       "      <th>50%</th>\n",
       "      <th>75%</th>\n",
       "      <th>max</th>\n",
       "      <th>count</th>\n",
       "      <th>mean</th>\n",
       "      <th>...</th>\n",
       "      <th>75%</th>\n",
       "      <th>max</th>\n",
       "      <th>count</th>\n",
       "      <th>mean</th>\n",
       "      <th>std</th>\n",
       "      <th>min</th>\n",
       "      <th>25%</th>\n",
       "      <th>50%</th>\n",
       "      <th>75%</th>\n",
       "      <th>max</th>\n",
       "    </tr>\n",
       "    <tr>\n",
       "      <th>strategy</th>\n",
       "      <th></th>\n",
       "      <th></th>\n",
       "      <th></th>\n",
       "      <th></th>\n",
       "      <th></th>\n",
       "      <th></th>\n",
       "      <th></th>\n",
       "      <th></th>\n",
       "      <th></th>\n",
       "      <th></th>\n",
       "      <th></th>\n",
       "      <th></th>\n",
       "      <th></th>\n",
       "      <th></th>\n",
       "      <th></th>\n",
       "      <th></th>\n",
       "      <th></th>\n",
       "      <th></th>\n",
       "      <th></th>\n",
       "      <th></th>\n",
       "      <th></th>\n",
       "    </tr>\n",
       "  </thead>\n",
       "  <tbody>\n",
       "    <tr>\n",
       "      <th>CLOSEST_RUN_AWAY</th>\n",
       "      <td>831904.0</td>\n",
       "      <td>39.10746</td>\n",
       "      <td>27.615671</td>\n",
       "      <td>-1.0</td>\n",
       "      <td>16.0</td>\n",
       "      <td>35.0</td>\n",
       "      <td>58.0</td>\n",
       "      <td>124.0</td>\n",
       "      <td>831904.0</td>\n",
       "      <td>20.448426</td>\n",
       "      <td>...</td>\n",
       "      <td>4.0</td>\n",
       "      <td>4.0</td>\n",
       "      <td>831904.0</td>\n",
       "      <td>1.748333e+12</td>\n",
       "      <td>56574.875819</td>\n",
       "      <td>1.748333e+12</td>\n",
       "      <td>1.748333e+12</td>\n",
       "      <td>1.748333e+12</td>\n",
       "      <td>1.748333e+12</td>\n",
       "      <td>1.748333e+12</td>\n",
       "    </tr>\n",
       "    <tr>\n",
       "      <th>ONLY_ONE_RUN_AWAY</th>\n",
       "      <td>521140.0</td>\n",
       "      <td>22.21070</td>\n",
       "      <td>15.489034</td>\n",
       "      <td>-1.0</td>\n",
       "      <td>9.0</td>\n",
       "      <td>21.0</td>\n",
       "      <td>33.0</td>\n",
       "      <td>81.0</td>\n",
       "      <td>521140.0</td>\n",
       "      <td>14.743505</td>\n",
       "      <td>...</td>\n",
       "      <td>4.0</td>\n",
       "      <td>4.0</td>\n",
       "      <td>521140.0</td>\n",
       "      <td>1.748333e+12</td>\n",
       "      <td>62848.715208</td>\n",
       "      <td>1.748333e+12</td>\n",
       "      <td>1.748333e+12</td>\n",
       "      <td>1.748333e+12</td>\n",
       "      <td>1.748333e+12</td>\n",
       "      <td>1.748333e+12</td>\n",
       "    </tr>\n",
       "    <tr>\n",
       "      <th>RANDOM_SINGLE</th>\n",
       "      <td>970412.0</td>\n",
       "      <td>35.62716</td>\n",
       "      <td>25.118535</td>\n",
       "      <td>-1.0</td>\n",
       "      <td>15.0</td>\n",
       "      <td>32.0</td>\n",
       "      <td>52.0</td>\n",
       "      <td>124.0</td>\n",
       "      <td>970412.0</td>\n",
       "      <td>19.095962</td>\n",
       "      <td>...</td>\n",
       "      <td>5.0</td>\n",
       "      <td>5.0</td>\n",
       "      <td>970412.0</td>\n",
       "      <td>1.748333e+12</td>\n",
       "      <td>72332.408482</td>\n",
       "      <td>1.748333e+12</td>\n",
       "      <td>1.748333e+12</td>\n",
       "      <td>1.748333e+12</td>\n",
       "      <td>1.748333e+12</td>\n",
       "      <td>1.748333e+12</td>\n",
       "    </tr>\n",
       "  </tbody>\n",
       "</table>\n",
       "<p>3 rows × 64 columns</p>\n",
       "</div>"
      ],
      "text/plain": [
       "                      epoch                                              \\\n",
       "                      count      mean        std  min   25%   50%   75%   \n",
       "strategy                                                                  \n",
       "CLOSEST_RUN_AWAY   831904.0  39.10746  27.615671 -1.0  16.0  35.0  58.0   \n",
       "ONLY_ONE_RUN_AWAY  521140.0  22.21070  15.489034 -1.0   9.0  21.0  33.0   \n",
       "RANDOM_SINGLE      970412.0  35.62716  25.118535 -1.0  15.0  32.0  52.0   \n",
       "\n",
       "                          position             ... max_num_snacks       \\\n",
       "                     max     count       mean  ...            75%  max   \n",
       "strategy                                       ...                       \n",
       "CLOSEST_RUN_AWAY   124.0  831904.0  20.448426  ...            4.0  4.0   \n",
       "ONLY_ONE_RUN_AWAY   81.0  521140.0  14.743505  ...            4.0  4.0   \n",
       "RANDOM_SINGLE      124.0  970412.0  19.095962  ...            5.0  5.0   \n",
       "\n",
       "                  timestamp                                            \\\n",
       "                      count          mean           std           min   \n",
       "strategy                                                                \n",
       "CLOSEST_RUN_AWAY   831904.0  1.748333e+12  56574.875819  1.748333e+12   \n",
       "ONLY_ONE_RUN_AWAY  521140.0  1.748333e+12  62848.715208  1.748333e+12   \n",
       "RANDOM_SINGLE      970412.0  1.748333e+12  72332.408482  1.748333e+12   \n",
       "\n",
       "                                                                           \n",
       "                            25%           50%           75%           max  \n",
       "strategy                                                                   \n",
       "CLOSEST_RUN_AWAY   1.748333e+12  1.748333e+12  1.748333e+12  1.748333e+12  \n",
       "ONLY_ONE_RUN_AWAY  1.748333e+12  1.748333e+12  1.748333e+12  1.748333e+12  \n",
       "RANDOM_SINGLE      1.748333e+12  1.748333e+12  1.748333e+12  1.748333e+12  \n",
       "\n",
       "[3 rows x 64 columns]"
      ]
     },
     "metadata": {},
     "output_type": "display_data"
    }
   ],
   "source": [
    "df = pd.read_csv(\"results.csv\")\n",
    "display(df.describe())\n",
    "display(df.groupby(by=\"strategy\").describe())"
   ]
  },
  {
   "cell_type": "code",
   "execution_count": 11,
   "id": "11e579d3",
   "metadata": {},
   "outputs": [
    {
     "ename": "KeyboardInterrupt",
     "evalue": "",
     "output_type": "error",
     "traceback": [
      "\u001b[31m---------------------------------------------------------------------------\u001b[39m",
      "\u001b[31mKeyboardInterrupt\u001b[39m                         Traceback (most recent call last)",
      "\u001b[36mCell\u001b[39m\u001b[36m \u001b[39m\u001b[32mIn[11]\u001b[39m\u001b[32m, line 3\u001b[39m\n\u001b[32m      1\u001b[39m ds = []\n\u001b[32m      2\u001b[39m \u001b[38;5;28;01mfor\u001b[39;00m g_id \u001b[38;5;129;01min\u001b[39;00m df.game_id.unique():\n\u001b[32m----> \u001b[39m\u001b[32m3\u001b[39m     df_game = \u001b[43mdf\u001b[49m\u001b[43m[\u001b[49m\u001b[43mdf\u001b[49m\u001b[43m[\u001b[49m\u001b[33;43m\"\u001b[39;49m\u001b[33;43mgame_id\u001b[39;49m\u001b[33;43m\"\u001b[39;49m\u001b[43m]\u001b[49m\u001b[43m \u001b[49m\u001b[43m==\u001b[49m\u001b[43m \u001b[49m\u001b[43mg_id\u001b[49m\u001b[43m]\u001b[49m\n\u001b[32m      4\u001b[39m     last_epoch = df_game.epoch.max()\n\u001b[32m      5\u001b[39m     df_last_epoch = df_game[df_game[\u001b[33m\"\u001b[39m\u001b[33mepoch\u001b[39m\u001b[33m\"\u001b[39m] == last_epoch]\n",
      "\u001b[36mFile \u001b[39m\u001b[32m~/Dokumenty/py3_12/lib/python3.12/site-packages/pandas/core/frame.py:4093\u001b[39m, in \u001b[36mDataFrame.__getitem__\u001b[39m\u001b[34m(self, key)\u001b[39m\n\u001b[32m   4091\u001b[39m \u001b[38;5;66;03m# Do we have a (boolean) 1d indexer?\u001b[39;00m\n\u001b[32m   4092\u001b[39m \u001b[38;5;28;01mif\u001b[39;00m com.is_bool_indexer(key):\n\u001b[32m-> \u001b[39m\u001b[32m4093\u001b[39m     \u001b[38;5;28;01mreturn\u001b[39;00m \u001b[38;5;28;43mself\u001b[39;49m\u001b[43m.\u001b[49m\u001b[43m_getitem_bool_array\u001b[49m\u001b[43m(\u001b[49m\u001b[43mkey\u001b[49m\u001b[43m)\u001b[49m\n\u001b[32m   4095\u001b[39m \u001b[38;5;66;03m# We are left with two options: a single key, and a collection of keys,\u001b[39;00m\n\u001b[32m   4096\u001b[39m \u001b[38;5;66;03m# We interpret tuples as collections only for non-MultiIndex\u001b[39;00m\n\u001b[32m   4097\u001b[39m is_single_key = \u001b[38;5;28misinstance\u001b[39m(key, \u001b[38;5;28mtuple\u001b[39m) \u001b[38;5;129;01mor\u001b[39;00m \u001b[38;5;129;01mnot\u001b[39;00m is_list_like(key)\n",
      "\u001b[36mFile \u001b[39m\u001b[32m~/Dokumenty/py3_12/lib/python3.12/site-packages/pandas/core/frame.py:4155\u001b[39m, in \u001b[36mDataFrame._getitem_bool_array\u001b[39m\u001b[34m(self, key)\u001b[39m\n\u001b[32m   4152\u001b[39m     \u001b[38;5;28;01mreturn\u001b[39;00m \u001b[38;5;28mself\u001b[39m.copy(deep=\u001b[38;5;28;01mNone\u001b[39;00m)\n\u001b[32m   4154\u001b[39m indexer = key.nonzero()[\u001b[32m0\u001b[39m]\n\u001b[32m-> \u001b[39m\u001b[32m4155\u001b[39m \u001b[38;5;28;01mreturn\u001b[39;00m \u001b[38;5;28;43mself\u001b[39;49m\u001b[43m.\u001b[49m\u001b[43m_take_with_is_copy\u001b[49m\u001b[43m(\u001b[49m\u001b[43mindexer\u001b[49m\u001b[43m,\u001b[49m\u001b[43m \u001b[49m\u001b[43maxis\u001b[49m\u001b[43m=\u001b[49m\u001b[32;43m0\u001b[39;49m\u001b[43m)\u001b[49m\n",
      "\u001b[36mFile \u001b[39m\u001b[32m~/Dokumenty/py3_12/lib/python3.12/site-packages/pandas/core/generic.py:4153\u001b[39m, in \u001b[36mNDFrame._take_with_is_copy\u001b[39m\u001b[34m(self, indices, axis)\u001b[39m\n\u001b[32m   4142\u001b[39m \u001b[38;5;129m@final\u001b[39m\n\u001b[32m   4143\u001b[39m \u001b[38;5;28;01mdef\u001b[39;00m\u001b[38;5;250m \u001b[39m\u001b[34m_take_with_is_copy\u001b[39m(\u001b[38;5;28mself\u001b[39m, indices, axis: Axis = \u001b[32m0\u001b[39m) -> Self:\n\u001b[32m   4144\u001b[39m \u001b[38;5;250m    \u001b[39m\u001b[33;03m\"\"\"\u001b[39;00m\n\u001b[32m   4145\u001b[39m \u001b[33;03m    Internal version of the `take` method that sets the `_is_copy`\u001b[39;00m\n\u001b[32m   4146\u001b[39m \u001b[33;03m    attribute to keep track of the parent dataframe (using in indexing\u001b[39;00m\n\u001b[32m   (...)\u001b[39m\u001b[32m   4151\u001b[39m \u001b[33;03m    See the docstring of `take` for full explanation of the parameters.\u001b[39;00m\n\u001b[32m   4152\u001b[39m \u001b[33;03m    \"\"\"\u001b[39;00m\n\u001b[32m-> \u001b[39m\u001b[32m4153\u001b[39m     result = \u001b[38;5;28;43mself\u001b[39;49m\u001b[43m.\u001b[49m\u001b[43mtake\u001b[49m\u001b[43m(\u001b[49m\u001b[43mindices\u001b[49m\u001b[43m=\u001b[49m\u001b[43mindices\u001b[49m\u001b[43m,\u001b[49m\u001b[43m \u001b[49m\u001b[43maxis\u001b[49m\u001b[43m=\u001b[49m\u001b[43maxis\u001b[49m\u001b[43m)\u001b[49m\n\u001b[32m   4154\u001b[39m     \u001b[38;5;66;03m# Maybe set copy if we didn't actually change the index.\u001b[39;00m\n\u001b[32m   4155\u001b[39m     \u001b[38;5;28;01mif\u001b[39;00m \u001b[38;5;28mself\u001b[39m.ndim == \u001b[32m2\u001b[39m \u001b[38;5;129;01mand\u001b[39;00m \u001b[38;5;129;01mnot\u001b[39;00m result._get_axis(axis).equals(\u001b[38;5;28mself\u001b[39m._get_axis(axis)):\n",
      "\u001b[36mFile \u001b[39m\u001b[32m~/Dokumenty/py3_12/lib/python3.12/site-packages/pandas/core/generic.py:4133\u001b[39m, in \u001b[36mNDFrame.take\u001b[39m\u001b[34m(self, indices, axis, **kwargs)\u001b[39m\n\u001b[32m   4128\u001b[39m     \u001b[38;5;66;03m# We can get here with a slice via DataFrame.__getitem__\u001b[39;00m\n\u001b[32m   4129\u001b[39m     indices = np.arange(\n\u001b[32m   4130\u001b[39m         indices.start, indices.stop, indices.step, dtype=np.intp\n\u001b[32m   4131\u001b[39m     )\n\u001b[32m-> \u001b[39m\u001b[32m4133\u001b[39m new_data = \u001b[38;5;28;43mself\u001b[39;49m\u001b[43m.\u001b[49m\u001b[43m_mgr\u001b[49m\u001b[43m.\u001b[49m\u001b[43mtake\u001b[49m\u001b[43m(\u001b[49m\n\u001b[32m   4134\u001b[39m \u001b[43m    \u001b[49m\u001b[43mindices\u001b[49m\u001b[43m,\u001b[49m\n\u001b[32m   4135\u001b[39m \u001b[43m    \u001b[49m\u001b[43maxis\u001b[49m\u001b[43m=\u001b[49m\u001b[38;5;28;43mself\u001b[39;49m\u001b[43m.\u001b[49m\u001b[43m_get_block_manager_axis\u001b[49m\u001b[43m(\u001b[49m\u001b[43maxis\u001b[49m\u001b[43m)\u001b[49m\u001b[43m,\u001b[49m\n\u001b[32m   4136\u001b[39m \u001b[43m    \u001b[49m\u001b[43mverify\u001b[49m\u001b[43m=\u001b[49m\u001b[38;5;28;43;01mTrue\u001b[39;49;00m\u001b[43m,\u001b[49m\n\u001b[32m   4137\u001b[39m \u001b[43m\u001b[49m\u001b[43m)\u001b[49m\n\u001b[32m   4138\u001b[39m \u001b[38;5;28;01mreturn\u001b[39;00m \u001b[38;5;28mself\u001b[39m._constructor_from_mgr(new_data, axes=new_data.axes).__finalize__(\n\u001b[32m   4139\u001b[39m     \u001b[38;5;28mself\u001b[39m, method=\u001b[33m\"\u001b[39m\u001b[33mtake\u001b[39m\u001b[33m\"\u001b[39m\n\u001b[32m   4140\u001b[39m )\n",
      "\u001b[36mFile \u001b[39m\u001b[32m~/Dokumenty/py3_12/lib/python3.12/site-packages/pandas/core/internals/managers.py:893\u001b[39m, in \u001b[36mBaseBlockManager.take\u001b[39m\u001b[34m(self, indexer, axis, verify)\u001b[39m\n\u001b[32m    890\u001b[39m n = \u001b[38;5;28mself\u001b[39m.shape[axis]\n\u001b[32m    891\u001b[39m indexer = maybe_convert_indices(indexer, n, verify=verify)\n\u001b[32m--> \u001b[39m\u001b[32m893\u001b[39m new_labels = \u001b[38;5;28;43mself\u001b[39;49m\u001b[43m.\u001b[49m\u001b[43maxes\u001b[49m\u001b[43m[\u001b[49m\u001b[43maxis\u001b[49m\u001b[43m]\u001b[49m\u001b[43m.\u001b[49m\u001b[43mtake\u001b[49m\u001b[43m(\u001b[49m\u001b[43mindexer\u001b[49m\u001b[43m)\u001b[49m\n\u001b[32m    894\u001b[39m \u001b[38;5;28;01mreturn\u001b[39;00m \u001b[38;5;28mself\u001b[39m.reindex_indexer(\n\u001b[32m    895\u001b[39m     new_axis=new_labels,\n\u001b[32m    896\u001b[39m     indexer=indexer,\n\u001b[32m   (...)\u001b[39m\u001b[32m    899\u001b[39m     copy=\u001b[38;5;28;01mNone\u001b[39;00m,\n\u001b[32m    900\u001b[39m )\n",
      "\u001b[36mFile \u001b[39m\u001b[32m~/Dokumenty/py3_12/lib/python3.12/site-packages/pandas/core/indexes/range.py:1168\u001b[39m, in \u001b[36mRangeIndex.take\u001b[39m\u001b[34m(self, indices, axis, allow_fill, fill_value, **kwargs)\u001b[39m\n\u001b[32m   1166\u001b[39m     taken = np.array([], dtype=\u001b[38;5;28mself\u001b[39m.dtype)\n\u001b[32m   1167\u001b[39m \u001b[38;5;28;01melse\u001b[39;00m:\n\u001b[32m-> \u001b[39m\u001b[32m1168\u001b[39m     ind_max = \u001b[43mindices\u001b[49m\u001b[43m.\u001b[49m\u001b[43mmax\u001b[49m\u001b[43m(\u001b[49m\u001b[43m)\u001b[49m\n\u001b[32m   1169\u001b[39m     \u001b[38;5;28;01mif\u001b[39;00m ind_max >= \u001b[38;5;28mlen\u001b[39m(\u001b[38;5;28mself\u001b[39m):\n\u001b[32m   1170\u001b[39m         \u001b[38;5;28;01mraise\u001b[39;00m \u001b[38;5;167;01mIndexError\u001b[39;00m(\n\u001b[32m   1171\u001b[39m             \u001b[33mf\u001b[39m\u001b[33m\"\u001b[39m\u001b[33mindex \u001b[39m\u001b[38;5;132;01m{\u001b[39;00mind_max\u001b[38;5;132;01m}\u001b[39;00m\u001b[33m is out of bounds for axis 0 with size \u001b[39m\u001b[38;5;132;01m{\u001b[39;00m\u001b[38;5;28mlen\u001b[39m(\u001b[38;5;28mself\u001b[39m)\u001b[38;5;132;01m}\u001b[39;00m\u001b[33m\"\u001b[39m\n\u001b[32m   1172\u001b[39m         )\n",
      "\u001b[36mFile \u001b[39m\u001b[32m~/Dokumenty/py3_12/lib/python3.12/site-packages/numpy/_core/_methods.py:44\u001b[39m, in \u001b[36m_amax\u001b[39m\u001b[34m(a, axis, out, keepdims, initial, where)\u001b[39m\n\u001b[32m     42\u001b[39m \u001b[38;5;28;01mdef\u001b[39;00m\u001b[38;5;250m \u001b[39m\u001b[34m_amax\u001b[39m(a, axis=\u001b[38;5;28;01mNone\u001b[39;00m, out=\u001b[38;5;28;01mNone\u001b[39;00m, keepdims=\u001b[38;5;28;01mFalse\u001b[39;00m,\n\u001b[32m     43\u001b[39m           initial=_NoValue, where=\u001b[38;5;28;01mTrue\u001b[39;00m):\n\u001b[32m---> \u001b[39m\u001b[32m44\u001b[39m     \u001b[38;5;28;01mreturn\u001b[39;00m \u001b[43mumr_maximum\u001b[49m\u001b[43m(\u001b[49m\u001b[43ma\u001b[49m\u001b[43m,\u001b[49m\u001b[43m \u001b[49m\u001b[43maxis\u001b[49m\u001b[43m,\u001b[49m\u001b[43m \u001b[49m\u001b[38;5;28;43;01mNone\u001b[39;49;00m\u001b[43m,\u001b[49m\u001b[43m \u001b[49m\u001b[43mout\u001b[49m\u001b[43m,\u001b[49m\u001b[43m \u001b[49m\u001b[43mkeepdims\u001b[49m\u001b[43m,\u001b[49m\u001b[43m \u001b[49m\u001b[43minitial\u001b[49m\u001b[43m,\u001b[49m\u001b[43m \u001b[49m\u001b[43mwhere\u001b[49m\u001b[43m)\u001b[49m\n",
      "\u001b[31mKeyboardInterrupt\u001b[39m: "
     ]
    }
   ],
   "source": [
    "ds = []\n",
    "for g_id in df.game_id.unique():\n",
    "    df_game = df[df[\"game_id\"] == g_id]\n",
    "    last_epoch = df_game.epoch.max()\n",
    "    df_last_epoch = df_game[df_game[\"epoch\"] == last_epoch]\n",
    "    d = {\"end_epoch\": last_epoch, \"game_id\": g_id, \"strategy\": df_last_epoch[\"strategy\"].iloc[0]}\n",
    "    for idx, row in df_last_epoch.iterrows():\n",
    "        d[row[\"name\"]] = GameResult(row[\"game_result\"]).name\n",
    "    ds.append(d)\n",
    "\n",
    "df_game_result = pd.DataFrame(ds)\n",
    "df_game_result[\"winner\"] = df_game_result.apply(get_winner, axis=1)"
   ]
  },
  {
   "cell_type": "code",
   "execution_count": null,
   "id": "c088a5a6",
   "metadata": {},
   "outputs": [
    {
     "data": {
      "application/vnd.plotly.v1+json": {
       "config": {
        "plotlyServerURL": "https://plot.ly"
       },
       "data": [
        {
         "bingroup": "x",
         "hovertemplate": "strategy=RANDOM_SINGLE<br>winner=%{x}<br>count=%{y}<extra></extra>",
         "legendgroup": "RANDOM_SINGLE",
         "marker": {
          "color": "#636efa",
          "pattern": {
           "shape": ""
          }
         },
         "name": "RANDOM_SINGLE",
         "orientation": "v",
         "showlegend": true,
         "type": "histogram",
         "x": [
          "C",
          "M",
          "C",
          "C",
          "C",
          "C",
          "C",
          "C",
          "C",
          "C",
          "C",
          "S",
          "M",
          "C",
          "B",
          "B",
          "C",
          "M",
          "S",
          "C",
          "C",
          "C",
          "C",
          "C",
          "S",
          "C",
          "C",
          "M",
          "C",
          "B",
          "C",
          "B",
          "M",
          "C",
          "C",
          "C",
          "C",
          "C",
          "B",
          "C",
          "C",
          "C",
          "S",
          "C",
          "C",
          "M",
          "C",
          "M",
          "C",
          "S",
          "C",
          "C",
          "M",
          "S",
          "M",
          "C",
          "B",
          "C",
          "C",
          "C",
          "M",
          "C",
          "B",
          "S",
          "M",
          "C",
          "S",
          "S",
          "C",
          "C",
          "C",
          "C",
          "C",
          "C",
          "C",
          "C",
          "B",
          "B",
          "S",
          "S",
          "C",
          "M",
          "S",
          "C",
          "C",
          "C",
          "S",
          "S",
          "C",
          "C",
          "C",
          "S",
          "M",
          "C",
          "B",
          "M",
          "C",
          "M",
          "C",
          "C",
          "C",
          "C",
          "C",
          "B",
          "S",
          "B",
          "C",
          "S",
          "C",
          "C",
          "S",
          "M",
          "C",
          "B",
          "S",
          "S",
          "B",
          "C",
          "B",
          "C",
          "C",
          "C",
          "C",
          "M",
          "C",
          "M",
          "C",
          "S",
          "C",
          "C",
          "B",
          "B",
          "B",
          "B",
          "S",
          "C",
          "M",
          "S",
          "C",
          "S",
          "C",
          "C",
          "B",
          "S",
          "C",
          "C",
          "S",
          "M",
          "C",
          "B",
          "C",
          "C",
          "C",
          "C",
          "B",
          "C",
          "C",
          "S",
          "C",
          "M",
          "S",
          "C",
          "C",
          "C",
          "C",
          "C",
          "M",
          "C",
          "C",
          "C",
          "S",
          "B",
          "C",
          "C",
          "S",
          "B",
          "C",
          "S",
          "C",
          "C",
          "C",
          "C",
          "C",
          "C",
          "C",
          "C",
          "C",
          "C",
          "C",
          "C",
          "S",
          "S",
          "C",
          "S",
          "B",
          "M",
          "C",
          "C",
          "M",
          "C",
          "C",
          "C",
          "C",
          "C",
          "C",
          "C",
          "B",
          "S",
          "B",
          "C",
          "C",
          "C",
          "C",
          "C",
          "B",
          "C",
          "M",
          "S",
          "C",
          "M",
          "B",
          "C",
          "C",
          "C",
          "C",
          "M",
          "C",
          "C",
          "C",
          "C",
          "M",
          "C",
          "B",
          "M",
          "S",
          "C",
          "M",
          "C",
          "M",
          "M",
          "C",
          "S",
          "C",
          "C",
          "C",
          "C",
          "C",
          "C",
          "S",
          "M",
          "C",
          "C",
          "C",
          "B",
          "M",
          "C",
          "C",
          "C",
          "S",
          "B",
          "C",
          "C",
          "C",
          "C",
          "C",
          "C",
          "C",
          "C",
          "C",
          "C",
          "C",
          "C",
          "C",
          "C",
          "C",
          "B",
          "B",
          "M",
          "M",
          "M",
          "M",
          "C",
          "C",
          "B",
          "M",
          "B",
          "C",
          "S",
          "C",
          "S",
          "S",
          "B",
          "C",
          "C",
          "B",
          "M",
          "M",
          "B",
          "C",
          "C",
          "S",
          "C",
          "S",
          "C",
          "C",
          "C",
          "S",
          "C",
          "M",
          "C",
          "C",
          "C",
          "S",
          "C",
          "S",
          "M",
          "C",
          "C",
          "M",
          "C",
          "S",
          "C",
          "S",
          "M",
          "C",
          "C",
          "C",
          "C",
          "M",
          "C",
          "B",
          "S",
          "C",
          "M",
          "M",
          "B",
          "C",
          "C",
          "M",
          "C",
          "M",
          "S",
          "B",
          "B",
          "M",
          "M",
          "C",
          "C",
          "B",
          "C",
          "C",
          "C",
          "C",
          "C",
          "S",
          "C",
          "B",
          "S",
          "C",
          "S",
          "C",
          "B",
          "C",
          "C",
          "M",
          "M",
          "C",
          "S",
          "C",
          "M",
          "S",
          "C",
          "C",
          "M",
          "C",
          "C",
          "B",
          "C",
          "M",
          "C",
          "M",
          "B",
          "C",
          "C",
          "C",
          "C",
          "M",
          "S",
          "M",
          "B",
          "C",
          "C",
          "S",
          "C",
          "S",
          "C",
          "C",
          "C",
          "C",
          "C",
          "C",
          "S",
          "C",
          "C",
          "S",
          "C",
          "B",
          "C",
          "S",
          "M",
          "C",
          "C",
          "S",
          "C",
          "C",
          "M",
          "C",
          "S",
          "C",
          "B",
          "C",
          "M",
          "M",
          "C",
          "C",
          "C",
          "M",
          "C",
          "C",
          "C",
          "C",
          "C",
          "B",
          "B",
          "C",
          "S",
          "M",
          "C",
          "C",
          "C",
          "C",
          "C",
          "M",
          "C",
          "C",
          "C",
          "C",
          "S",
          "S",
          "C",
          "B",
          "B",
          "S",
          "B",
          "C",
          "M",
          "C",
          "C",
          "C",
          "C",
          "B",
          "C",
          "C",
          "C",
          "M",
          "M",
          "S",
          "B",
          "S",
          "B",
          "C",
          "S",
          "C",
          "C",
          "C",
          "C",
          "C",
          "M",
          "S",
          "B",
          "C",
          "C",
          "C",
          "S",
          "B",
          "C",
          "C",
          "B",
          "C",
          "M",
          "C",
          "B",
          "C",
          "B",
          "B",
          "B",
          "M",
          "B",
          "C",
          "C",
          "S",
          "C",
          "C",
          "B",
          "C",
          "C",
          "C",
          "C",
          "C",
          "C",
          "B",
          "C",
          "B",
          "B",
          "B",
          "B",
          "B",
          "M",
          "C",
          "C",
          "S",
          "M",
          "C",
          "C",
          "C",
          "C",
          "C",
          "M",
          "C",
          "M",
          "S",
          "C",
          "S",
          "C",
          "B",
          "C",
          "M",
          "C",
          "C",
          "C",
          "B",
          "C",
          "C",
          "C",
          "C",
          "M",
          "M",
          "C",
          "C",
          "C",
          "C",
          "C",
          "M",
          "C",
          "B",
          "C",
          "C",
          "C",
          "B",
          "M",
          "M",
          "M",
          "B",
          "M",
          "M",
          "C",
          "C",
          "B",
          "M",
          "C",
          "B",
          "C",
          "S",
          "C",
          "C",
          "C",
          "C",
          "C",
          "C",
          "B",
          "S",
          "C",
          "B",
          "M",
          "C",
          "B",
          "C",
          "C",
          "C",
          "B",
          "C",
          "S",
          "C",
          "S",
          "M",
          "C",
          "B",
          "C",
          "C",
          "C",
          "C",
          "C",
          "M",
          "C",
          "M",
          "C",
          "C",
          "S",
          "C",
          "C",
          "S",
          "C",
          "C",
          "C",
          "M",
          "C",
          "C",
          "S",
          "B",
          "C",
          "C",
          "C",
          "C",
          "C",
          "C",
          "C",
          "C",
          "S",
          "C",
          "C",
          "M",
          "C",
          "C",
          "M",
          "C",
          "C",
          "C",
          "B",
          "C",
          "B",
          "M",
          "C",
          "C",
          "C",
          "S",
          "C",
          "B",
          "S",
          "C",
          "C",
          "C",
          "C",
          "C",
          "C",
          "C",
          "M",
          "C",
          "C",
          "C",
          "M",
          "S",
          "C",
          "C",
          "C",
          "B",
          "C",
          "C",
          "C",
          "C",
          "C",
          "C",
          "C",
          "S",
          "C",
          "C",
          "C",
          "M",
          "S",
          "C",
          "B",
          "B",
          "C",
          "S",
          "C",
          "S",
          "C",
          "M",
          "C",
          "C",
          "C",
          "M",
          "C",
          "C",
          "C",
          "C",
          "B",
          "C",
          "C",
          "C",
          "S",
          "C",
          "C",
          "M",
          "B",
          "C",
          "C",
          "M",
          "C",
          "B",
          "C",
          "B",
          "C",
          "C",
          "C",
          "C",
          "C",
          "S",
          "M",
          "C",
          "M",
          "B",
          "B",
          "S",
          "B",
          "B",
          "C",
          "M",
          "C",
          "M",
          "C",
          "C",
          "C",
          "C",
          "C",
          "B",
          "C",
          "M",
          "S",
          "M",
          "B",
          "C",
          "M",
          "C",
          "C",
          "B",
          "C",
          "C",
          "C",
          "C",
          "B",
          "S",
          "C",
          "C",
          "C",
          "S",
          "C",
          "C",
          "C",
          "C",
          "C",
          "C",
          "C",
          "C",
          "C",
          "C",
          "M",
          "B",
          "C",
          "M",
          "B",
          "C",
          "C",
          "C",
          "C",
          "B",
          "B",
          "C",
          "C",
          "B",
          "M",
          "M",
          "S",
          "S",
          "C",
          "C",
          "C",
          "M",
          "C",
          "S",
          "C",
          "C",
          "M",
          "C",
          "S",
          "M",
          "C",
          "M",
          "C",
          "M",
          "M",
          "C",
          "C",
          "C",
          "C",
          "M",
          "C",
          "C",
          "M",
          "S",
          "M",
          "M",
          "C",
          "C",
          "C",
          "M",
          "M",
          "M",
          "M",
          "C",
          "B",
          "B",
          "M",
          "C",
          "S",
          "B",
          "B",
          "C",
          "C",
          "M",
          "S",
          "M",
          "C",
          "C",
          "S",
          "B",
          "B",
          "S",
          "C",
          "M",
          "C",
          "M",
          "C",
          "M",
          "S",
          "S",
          "S",
          "M",
          "M",
          "C",
          "C",
          "M",
          "S",
          "C",
          "C",
          "C",
          "M",
          "C",
          "M",
          "C",
          "C",
          "B",
          "C",
          "C",
          "S",
          "C",
          "S",
          "C",
          "M",
          "C",
          "B",
          "C",
          "C",
          "M",
          "S",
          "C",
          "C",
          "C",
          "B",
          "C",
          "C",
          "C",
          "C",
          "C",
          "B",
          "C",
          "C",
          "C",
          "S",
          "C",
          "C",
          "C",
          "C",
          "C",
          "B",
          "C",
          "M",
          "C",
          "B",
          "C",
          "B",
          "C",
          "S",
          "C",
          "C",
          "C",
          "S",
          "M",
          "C",
          "C",
          "S",
          "C",
          "C",
          "C",
          "S",
          "C",
          "S",
          "S",
          "B",
          "C",
          "S",
          "B",
          "C",
          "C",
          "B",
          "C",
          "M",
          "C",
          "C",
          "M",
          "M",
          "C",
          "S",
          "C",
          "S",
          "B",
          "C",
          "S",
          "C",
          "S",
          "C",
          "C",
          "C",
          "C",
          "C",
          "C",
          "C",
          "B",
          "C",
          "M",
          "B",
          "B",
          "S",
          "M",
          "C",
          "C",
          "C",
          "S",
          "S",
          "S",
          "B",
          "C",
          "M",
          "C",
          "S",
          "M",
          "C",
          "C",
          "M",
          "C",
          "C",
          "C",
          "C",
          "B",
          "M",
          "C",
          "C",
          "C",
          "C",
          "C",
          "M",
          "C",
          "B",
          "C",
          "M",
          "C",
          "M",
          "S",
          "C",
          "C",
          "S",
          "S",
          "M",
          "C",
          "C",
          "B",
          "S",
          "C",
          "C",
          "C",
          "B"
         ],
         "xaxis": "x",
         "yaxis": "y"
        },
        {
         "bingroup": "x",
         "hovertemplate": "strategy=CLOSEST_RUN_AWAY<br>winner=%{x}<br>count=%{y}<extra></extra>",
         "legendgroup": "CLOSEST_RUN_AWAY",
         "marker": {
          "color": "#EF553B",
          "pattern": {
           "shape": ""
          }
         },
         "name": "CLOSEST_RUN_AWAY",
         "orientation": "v",
         "showlegend": true,
         "type": "histogram",
         "x": [
          "C",
          "B",
          "B",
          "C",
          "C",
          "C",
          "C",
          "C",
          "C",
          "C",
          "C",
          "B",
          "C",
          "C",
          "C",
          "S",
          "C",
          "C",
          "C",
          "C",
          "C",
          "S",
          "C",
          "C",
          "C",
          "B",
          "M",
          "C",
          "C",
          "C",
          "M",
          "C",
          "M",
          "C",
          "C",
          "C",
          "C",
          "C",
          "C",
          "S",
          "C",
          "C",
          "C",
          "C",
          "B",
          "C",
          "B",
          "B",
          "S",
          "C",
          "C",
          "C",
          "M",
          "C",
          "C",
          "C",
          "M",
          "B",
          "M",
          "C",
          "C",
          "C",
          "C",
          "C",
          "B",
          "C",
          "C",
          "C",
          "C",
          "C",
          "S",
          "M",
          "M",
          "B",
          "C",
          "C",
          "C",
          "C",
          "S",
          "M",
          "C",
          "M",
          "C",
          "M",
          "M",
          "C",
          "M",
          "C",
          "C",
          "C",
          "S",
          "C",
          "C",
          "C",
          "C",
          "C",
          "C",
          "M",
          "S",
          "C",
          "C",
          "C",
          "M",
          "C",
          "M",
          "C",
          "M",
          "S",
          "B",
          "M",
          "C",
          "C",
          "C",
          "C",
          "C",
          "M",
          "S",
          "C",
          "C",
          "C",
          "C",
          "C",
          "C",
          "B",
          "M",
          "C",
          "M",
          "C",
          "C",
          "C",
          "C",
          "S",
          "M",
          "C",
          "M",
          "B",
          "S",
          "C",
          "C",
          "C",
          "C",
          "C",
          "C",
          "C",
          "C",
          "C",
          "M",
          "M",
          "B",
          "B",
          "C",
          "C",
          "C",
          "B",
          "C",
          "B",
          "C",
          "M",
          "M",
          "B",
          "S",
          "B",
          "C",
          "M",
          "C",
          "C",
          "C",
          "C",
          "S",
          "C",
          "C",
          "C",
          "C",
          "C",
          "C",
          "B",
          "C",
          "C",
          "S",
          "C",
          "C",
          "C",
          "C",
          "B",
          "S",
          "B",
          "C",
          "B",
          "M",
          "M",
          "C",
          "M",
          "C",
          "C",
          "C",
          "C",
          "C",
          "C",
          "C",
          "M",
          "C",
          "C",
          "C",
          "C",
          "C",
          "C",
          "B",
          "M",
          "C",
          "C",
          "C",
          "C",
          "C",
          "C",
          "C",
          "B",
          "M",
          "C",
          "C",
          "C",
          "B",
          "C",
          "C",
          "S",
          "C",
          "S",
          "C",
          "B",
          "C",
          "C",
          "C",
          "C",
          "C",
          "C",
          "B",
          "M",
          "C",
          "C",
          "B",
          "B",
          "C",
          "M",
          "B",
          "S",
          "C",
          "B",
          "S",
          "M",
          "C",
          "C",
          "M",
          "C",
          "M",
          "C",
          "M",
          "B",
          "B",
          "M",
          "S",
          "C",
          "C",
          "C",
          "C",
          "S",
          "C",
          "C",
          "C",
          "S",
          "S",
          "C",
          "C",
          "C",
          "C",
          "C",
          "C",
          "M",
          "C",
          "C",
          "S",
          "C",
          "C",
          "S",
          "C",
          "C",
          "M",
          "B",
          "S",
          "M",
          "C",
          "C",
          "C",
          "B",
          "C",
          "C",
          "B",
          "C",
          "C",
          "C",
          "B",
          "C",
          "C",
          "C",
          "C",
          "B",
          "S",
          "C",
          "C",
          "C",
          "M",
          "C",
          "B",
          "C",
          "S",
          "C",
          "C",
          "S",
          "S",
          "C",
          "C",
          "B",
          "M",
          "C",
          "C",
          "B",
          "C",
          "S",
          "S",
          "S",
          "B",
          "C",
          "C",
          "C",
          "C",
          "C",
          "C",
          "C",
          "S",
          "C",
          "S",
          "B",
          "C",
          "S",
          "S",
          "B",
          "C",
          "C",
          "C",
          "B",
          "S",
          "C",
          "B",
          "C",
          "C",
          "C",
          "B",
          "S",
          "S",
          "B",
          "B",
          "C",
          "C",
          "C",
          "C",
          "B",
          "C",
          "C",
          "M",
          "C",
          "C",
          "S",
          "C",
          "M",
          "B",
          "C",
          "C",
          "C",
          "M",
          "C",
          "S",
          "C",
          "C",
          "S",
          "C",
          "C",
          "M",
          "C",
          "C",
          "C",
          "M",
          "C",
          "M",
          "C",
          "C",
          "S",
          "S",
          "C",
          "C",
          "B",
          "C",
          "B",
          "B",
          "C",
          "C",
          "C",
          "C",
          "B",
          "C",
          "C",
          "B",
          "C",
          "C",
          "C",
          "C",
          "B",
          "C",
          "C",
          "C",
          "C",
          "S",
          "S",
          "B",
          "C",
          "C",
          "B",
          "B",
          "C",
          "M",
          "C",
          "B",
          "C",
          "C",
          "C",
          "S",
          "C",
          "C",
          "S",
          "S",
          "C",
          "C",
          "C",
          "C",
          "C",
          "C",
          "B",
          "B",
          "C",
          "C",
          "S",
          "C",
          "M",
          "C",
          "C",
          "C",
          "B",
          "S",
          "S",
          "C",
          "C",
          "B",
          "C",
          "C",
          "B",
          "S",
          "B",
          "S",
          "C",
          "C",
          "C",
          "S",
          "C",
          "M",
          "C",
          "C",
          "C",
          "M",
          "C",
          "C",
          "C",
          "C",
          "M",
          "C",
          "C",
          "S",
          "C",
          "C",
          "C",
          "C",
          "C",
          "B",
          "C",
          "S",
          "C",
          "C",
          "S",
          "C",
          "M",
          "B",
          "S",
          "C",
          "C",
          "B",
          "M",
          "C",
          "C",
          "B",
          "C",
          "C",
          "C",
          "C",
          "M",
          "M",
          "C",
          "C",
          "C",
          "B",
          "M",
          "C",
          "C",
          "C",
          "M",
          "M",
          "M",
          "C",
          "C",
          "S",
          "S",
          "C",
          "M",
          "C",
          "C",
          "C",
          "C",
          "C",
          "C",
          "C",
          "M",
          "C",
          "C",
          "B",
          "C",
          "B",
          "S",
          "B",
          "C",
          "C",
          "M",
          "C",
          "C",
          "M",
          "M",
          "B",
          "S",
          "C",
          "C",
          "C",
          "C",
          "M",
          "C",
          "B",
          "C",
          "C",
          "S",
          "B",
          "C",
          "C",
          "C",
          "S",
          "C",
          "M",
          "C",
          "S",
          "S",
          "C",
          "C",
          "C",
          "C",
          "C",
          "M",
          "C",
          "C",
          "C",
          "S",
          "C",
          "C",
          "C",
          "C",
          "C",
          "C",
          "C",
          "C",
          "C",
          "B",
          "S",
          "C",
          "S",
          "C",
          "C",
          "C",
          "C",
          "C",
          "C",
          "M",
          "B",
          "C",
          "B",
          "S",
          "C",
          "B",
          "S",
          "C",
          "M",
          "C",
          "C",
          "B",
          "C",
          "M",
          "S",
          "C",
          "S",
          "C",
          "C",
          "C",
          "C",
          "B",
          "C",
          "M",
          "C",
          "S",
          "M",
          "C",
          "C",
          "C",
          "B",
          "C",
          "B",
          "M",
          "C",
          "C",
          "C",
          "C",
          "C",
          "S",
          "C",
          "C",
          "C",
          "C",
          "B",
          "C",
          "M",
          "B",
          "C",
          "C",
          "C",
          "B",
          "C",
          "C",
          "C",
          "C",
          "C",
          "C",
          "C",
          "M",
          "C",
          "C",
          "C",
          "C",
          "M",
          "C",
          "S",
          "S",
          "C",
          "M",
          "S",
          "B",
          "C",
          "S",
          "C",
          "C",
          "S",
          "C",
          "C",
          "B",
          "C",
          "C",
          "C",
          "B",
          "C",
          "B",
          "M",
          "S",
          "C",
          "C",
          "C",
          "C",
          "B",
          "C",
          "B",
          "C",
          "C",
          "C",
          "B",
          "C",
          "S",
          "C",
          "C",
          "B",
          "S",
          "B",
          "M",
          "C",
          "C",
          "C",
          "C",
          "B",
          "B",
          "C",
          "C",
          "M",
          "M",
          "B",
          "C",
          "C",
          "C",
          "B",
          "B",
          "C",
          "C",
          "C",
          "C",
          "C",
          "M",
          "S",
          "C",
          "B",
          "C",
          "C",
          "M",
          "C",
          "B",
          "M",
          "C",
          "M",
          "C",
          "C",
          "S",
          "C",
          "B",
          "C",
          "C",
          "B",
          "C",
          "S",
          "C",
          "C",
          "M",
          "C",
          "C",
          "C",
          "C",
          "C",
          "C",
          "B",
          "S",
          "C",
          "M",
          "C",
          "C",
          "S",
          "C",
          "C",
          "C",
          "S",
          "B",
          "C",
          "C",
          "M",
          "C",
          "C",
          "B",
          "C",
          "B",
          "S",
          "C",
          "C",
          "S",
          "C",
          "C",
          "C",
          "C",
          "C",
          "C",
          "S",
          "C",
          "S",
          "C",
          "C",
          "C",
          "C",
          "M",
          "M",
          "C",
          "C",
          "C",
          "B",
          "C",
          "C",
          "S",
          "C",
          "C",
          "B",
          "M",
          "S",
          "C",
          "C",
          "C",
          "B",
          "M",
          "M",
          "M",
          "M",
          "S",
          "C",
          "S",
          "S",
          "C",
          "C",
          "B",
          "C",
          "S",
          "S",
          "M",
          "S",
          "C",
          "C",
          "C",
          "C",
          "S",
          "B",
          "S",
          "C",
          "S",
          "C",
          "C",
          "C",
          "S",
          "C",
          "M",
          "S",
          "C",
          "C",
          "C",
          "C",
          "C",
          "C",
          "B",
          "S",
          "S",
          "M",
          "B",
          "C",
          "C",
          "B",
          "M",
          "B",
          "B",
          "M",
          "C",
          "B",
          "C",
          "B",
          "C",
          "C",
          "C",
          "C",
          "M",
          "C",
          "S",
          "C",
          "C",
          "B",
          "B",
          "C",
          "C",
          "C",
          "M",
          "C",
          "S",
          "S",
          "C",
          "C",
          "B",
          "C",
          "C",
          "S",
          "C",
          "S",
          "M",
          "S",
          "M",
          "C",
          "M",
          "C",
          "C",
          "M",
          "B",
          "C",
          "C",
          "B",
          "C",
          "S",
          "M",
          "C",
          "C",
          "C",
          "B",
          "M",
          "M",
          "C",
          "B",
          "C",
          "B",
          "C",
          "M",
          "M",
          "C",
          "C",
          "C",
          "S",
          "M",
          "C",
          "C",
          "C",
          "B",
          "C",
          "C",
          "B",
          "C",
          "C",
          "S",
          "C",
          "S",
          "M",
          "C",
          "C",
          "C",
          "C",
          "C",
          "M",
          "M",
          "C",
          "C",
          "M",
          "C",
          "B",
          "C",
          "C",
          "C",
          "C",
          "S",
          "S",
          "C",
          "C",
          "C",
          "B",
          "C",
          "C",
          "C",
          "C",
          "C",
          "M",
          "C",
          "C",
          "C",
          "C",
          "C",
          "S",
          "M",
          "S",
          "C",
          "C",
          "M",
          "C",
          "C",
          "C",
          "M",
          "C",
          "M",
          "C",
          "C",
          "C",
          "C",
          "M",
          "B",
          "C",
          "S",
          "C",
          "C",
          "C",
          "C",
          "M"
         ],
         "xaxis": "x",
         "yaxis": "y"
        },
        {
         "bingroup": "x",
         "hovertemplate": "strategy=ONLY_ONE_RUN_AWAY<br>winner=%{x}<br>count=%{y}<extra></extra>",
         "legendgroup": "ONLY_ONE_RUN_AWAY",
         "marker": {
          "color": "#00cc96",
          "pattern": {
           "shape": ""
          }
         },
         "name": "ONLY_ONE_RUN_AWAY",
         "orientation": "v",
         "showlegend": true,
         "type": "histogram",
         "x": [
          "C",
          "C",
          "C",
          "C",
          "B",
          "M",
          "C",
          "M",
          "M",
          "C",
          "C",
          "C",
          "C",
          "S",
          "C",
          "C",
          "C",
          "M",
          "S",
          "C",
          "C",
          "B",
          "C",
          "M",
          "C",
          "C",
          "C",
          "B",
          "C",
          "C",
          "M",
          "M",
          "S",
          "B",
          "C",
          "C",
          "S",
          "C",
          "S",
          "C",
          "S",
          "B",
          "B",
          "C",
          "C",
          "C",
          "C",
          "B",
          "S",
          "C",
          "C",
          "C",
          "C",
          "C",
          "M",
          "C",
          "C",
          "B",
          "S",
          "C",
          "M",
          "S",
          "C",
          "C",
          "C",
          "C",
          "C",
          "C",
          "C",
          "C",
          "C",
          "M",
          "C",
          "S",
          "C",
          "B",
          "C",
          "C",
          "M",
          "C",
          "C",
          "S",
          "S",
          "C",
          "M",
          "S",
          "C",
          "C",
          "B",
          "M",
          "M",
          "C",
          "M",
          "C",
          "B",
          "C",
          "B",
          "S",
          "C",
          "S",
          "C",
          "C",
          "M",
          "C",
          "B",
          "B",
          "C",
          "B",
          "B",
          "C",
          "C",
          "B",
          "C",
          "C",
          "M",
          "C",
          "C",
          "C",
          "C",
          "C",
          "C",
          "M",
          "C",
          "B",
          "S",
          "C",
          "C",
          "M",
          "S",
          "B",
          "C",
          "M",
          "C",
          "C",
          "M",
          "B",
          "C",
          "C",
          "C",
          "C",
          "S",
          "B",
          "M",
          "C",
          "C",
          "B",
          "B",
          "S",
          "M",
          "B",
          "S",
          "C",
          "M",
          "C",
          "S",
          "B",
          "M",
          "M",
          "C",
          "B",
          "C",
          "B",
          "C",
          "C",
          "S",
          "C",
          "B",
          "C",
          "C",
          "B",
          "C",
          "S",
          "C",
          "C",
          "M",
          "B",
          "M",
          "B",
          "M",
          "C",
          "B",
          "C",
          "C",
          "C",
          "M",
          "M",
          "M",
          "C",
          "S",
          "S",
          "M",
          "C",
          "S",
          "C",
          "C",
          "B",
          "C",
          "C",
          "M",
          "C",
          "M",
          "S",
          "S",
          "C",
          "B",
          "B",
          "M",
          "B",
          "C",
          "B",
          "C",
          "S",
          "M",
          "C",
          "M",
          "C",
          "B",
          "C",
          "S",
          "S",
          "M",
          "M",
          "S",
          "M",
          "C",
          "M",
          "M",
          "C",
          "C",
          "C",
          "C",
          "B",
          "M",
          "M",
          "M",
          "B",
          "S",
          "C",
          "C",
          "C",
          "M",
          "C",
          "C",
          "C",
          "B",
          "B",
          "C",
          "S",
          "B",
          "S",
          "C",
          "S",
          "C",
          "M",
          "C",
          "S",
          "M",
          "C",
          "B",
          "C",
          "M",
          "C",
          "C",
          "S",
          "S",
          "M",
          "C",
          "C",
          "C",
          "C",
          "S",
          "S",
          "C",
          "B",
          "C",
          "S",
          "C",
          "S",
          "M",
          "B",
          "S",
          "S",
          "C",
          "M",
          "M",
          "C",
          "S",
          "C",
          "M",
          "B",
          "M",
          "M",
          "B",
          "B",
          "C",
          "C",
          "M",
          "C",
          "C",
          "C",
          "S",
          "C",
          "C",
          "B",
          "M",
          "M",
          "C",
          "C",
          "C",
          "B",
          "B",
          "C",
          "M",
          "S",
          "S",
          "B",
          "C",
          "M",
          "C",
          "C",
          "C",
          "S",
          "M",
          "C",
          "C",
          "S",
          "S",
          "S",
          "C",
          "C",
          "C",
          "C",
          "C",
          "C",
          "C",
          "C",
          "C",
          "C",
          "C",
          "C",
          "S",
          "S",
          "C",
          "M",
          "S",
          "C",
          "C",
          "C",
          "S",
          "B",
          "M",
          "S",
          "C",
          "C",
          "M",
          "M",
          "C",
          "C",
          "C",
          "C",
          "C",
          "C",
          "S",
          "C",
          "S",
          "B",
          "C",
          "B",
          "C",
          "M",
          "C",
          "M",
          "C",
          "M",
          "C",
          "M",
          "C",
          "S",
          "C",
          "C",
          "C",
          "M",
          "C",
          "B",
          "C",
          "B",
          "C",
          "C",
          "S",
          "C",
          "C",
          "C",
          "C",
          "B",
          "S",
          "S",
          "C",
          "C",
          "C",
          "M",
          "S",
          "C",
          "B",
          "S",
          "B",
          "C",
          "B",
          "S",
          "S",
          "C",
          "C",
          "C",
          "M",
          "M",
          "M",
          "C",
          "M",
          "S",
          "B",
          "B",
          "M",
          "S",
          "M",
          "C",
          "S",
          "C",
          "M",
          "C",
          "B",
          "C",
          "C",
          "C",
          "C",
          "S",
          "C",
          "C",
          "S",
          "M",
          "C",
          "C",
          "M",
          "M",
          "C",
          "C",
          "B",
          "S",
          "B",
          "C",
          "C",
          "B",
          "M",
          "B",
          "B",
          "C",
          "S",
          "C",
          "C",
          "C",
          "C",
          "S",
          "B",
          "S",
          "C",
          "M",
          "C",
          "B",
          "S",
          "C",
          "C",
          "B",
          "C",
          "M",
          "M",
          "B",
          "C",
          "B",
          "M",
          "C",
          "M",
          "S",
          "S",
          "C",
          "B",
          "S",
          "S",
          "B",
          "C",
          "B",
          "S",
          "S",
          "B",
          "C",
          "S",
          "M",
          "B",
          "C",
          "C",
          "C",
          "C",
          "C",
          "S",
          "M",
          "M",
          "M",
          "M",
          "C",
          "C",
          "S",
          "C",
          "C",
          "C",
          "B",
          "M",
          "S",
          "S",
          "B",
          "M",
          "C",
          "M",
          "S",
          "M",
          "C",
          "C",
          "C",
          "M",
          "C",
          "M",
          "B",
          "M",
          "C",
          "B",
          "C",
          "C",
          "S",
          "B",
          "S",
          "C",
          "C",
          "M",
          "B",
          "S",
          "M",
          "C",
          "B",
          "S",
          "S",
          "M",
          "C",
          "M",
          "C",
          "M",
          "S",
          "S",
          "C",
          "M",
          "C",
          "C",
          "M",
          "S",
          "M",
          "S",
          "C",
          "B",
          "M",
          "B",
          "C",
          "S",
          "C",
          "C",
          "C",
          "C",
          "C",
          "B",
          "S",
          "B",
          "C",
          "C",
          "S",
          "C",
          "C",
          "C",
          "C",
          "B",
          "B",
          "B",
          "B",
          "C",
          "C",
          "C",
          "B",
          "C",
          "C",
          "C",
          "S",
          "C",
          "C",
          "C",
          "S",
          "B",
          "C",
          "C",
          "C",
          "C",
          "C",
          "C",
          "C",
          "C",
          "M",
          "B",
          "C",
          "C",
          "C",
          "S",
          "B",
          "S",
          "S",
          "B",
          "S",
          "S",
          "S",
          "B",
          "S",
          "B",
          "B",
          "S",
          "M",
          "C",
          "S",
          "C",
          "B",
          "B",
          "B",
          "C",
          "C",
          "S",
          "S",
          "S",
          "B",
          "S",
          "C",
          "B",
          "M",
          "M",
          "M",
          "C",
          "C",
          "C",
          "C",
          "M",
          "M",
          "C",
          "C",
          "C",
          "C",
          "C",
          "S",
          "C",
          "C",
          "M",
          "C",
          "B",
          "C",
          "C",
          "M",
          "C",
          "C",
          "C",
          "C",
          "B",
          "S",
          "M",
          "C",
          "B",
          "C",
          "C",
          "C",
          "M",
          "C",
          "M",
          "C",
          "M",
          "S",
          "C",
          "C",
          "M",
          "C",
          "M",
          "C",
          "C",
          "C",
          "C",
          "S",
          "C",
          "C",
          "M",
          "C",
          "C",
          "C",
          "M",
          "M",
          "C",
          "S",
          "C",
          "C",
          "C",
          "C",
          "M",
          "C",
          "C",
          "C",
          "M",
          "B",
          "S",
          "C",
          "C",
          "C",
          "M",
          "B",
          "C",
          "M",
          "C",
          "M",
          "C",
          "B",
          "B",
          "C",
          "B",
          "S",
          "M",
          "M",
          "C",
          "C",
          "S",
          "M",
          "C",
          "C",
          "C",
          "S",
          "C",
          "S",
          "M",
          "C",
          "C",
          "M",
          "C",
          "B",
          "C",
          "C",
          "C",
          "C",
          "C",
          "M",
          "C",
          "C",
          "M",
          "C",
          "M",
          "M",
          "C",
          "B",
          "S",
          "M",
          "B",
          "C",
          "S",
          "B",
          "C",
          "C",
          "C",
          "C",
          "B",
          "S",
          "B",
          "B",
          "M",
          "C",
          "B",
          "C",
          "S",
          "M",
          "B",
          "C",
          "M",
          "C",
          "M",
          "C",
          "C",
          "S",
          "C",
          "B",
          "B",
          "S",
          "B",
          "C",
          "C",
          "C",
          "M",
          "C",
          "S",
          "M",
          "C",
          "C",
          "C",
          "S",
          "C",
          "C",
          "S",
          "C",
          "C",
          "C",
          "M",
          "S",
          "S",
          "B",
          "C",
          "C",
          "B",
          "C",
          "B",
          "S",
          "C",
          "S",
          "C",
          "C",
          "C",
          "S",
          "C",
          "M",
          "S",
          "C",
          "S",
          "C",
          "C",
          "B",
          "C",
          "B",
          "C",
          "S",
          "C",
          "C",
          "C",
          "S",
          "C",
          "M",
          "C",
          "B",
          "C",
          "C",
          "C",
          "S",
          "C",
          "B",
          "C",
          "B",
          "C",
          "C",
          "M",
          "C",
          "C",
          "C",
          "C",
          "B",
          "M",
          "C",
          "S",
          "S",
          "C",
          "B",
          "S",
          "C",
          "C",
          "C",
          "S",
          "M",
          "B",
          "C",
          "B",
          "C",
          "C",
          "B",
          "C",
          "C",
          "B",
          "C",
          "B",
          "C",
          "C",
          "C",
          "S",
          "S",
          "C",
          "C",
          "C",
          "B",
          "C",
          "B",
          "C",
          "C",
          "M",
          "C",
          "C",
          "C",
          "S",
          "C",
          "M",
          "C",
          "C",
          "M",
          "S",
          "S",
          "M",
          "M",
          "M",
          "B",
          "B",
          "B",
          "M",
          "B",
          "C",
          "B",
          "C",
          "B",
          "M",
          "S",
          "S",
          "C",
          "S",
          "C",
          "M",
          "B",
          "C",
          "C",
          "S",
          "C",
          "M",
          "B",
          "B",
          "C",
          "M",
          "C",
          "B",
          "C",
          "C",
          "B",
          "C",
          "M",
          "C",
          "M",
          "S",
          "M",
          "C",
          "S",
          "C",
          "C",
          "C",
          "C",
          "B",
          "S",
          "C",
          "C",
          "M",
          "M",
          "C",
          "M",
          "C",
          "M",
          "S",
          "C",
          "C",
          "B",
          "C",
          "C",
          "C",
          "S",
          "C",
          "C",
          "M",
          "M",
          "B",
          "M",
          "C",
          "C",
          "S",
          "B",
          "S",
          "S",
          "C",
          "C",
          "C",
          "M",
          "C",
          "C",
          "C",
          "C",
          "S",
          "C",
          "S",
          "C",
          "C",
          "M"
         ],
         "xaxis": "x",
         "yaxis": "y"
        }
       ],
       "layout": {
        "barmode": "relative",
        "legend": {
         "title": {
          "text": "strategy"
         },
         "tracegroupgap": 0
        },
        "margin": {
         "t": 60
        },
        "template": {
         "data": {
          "bar": [
           {
            "error_x": {
             "color": "#2a3f5f"
            },
            "error_y": {
             "color": "#2a3f5f"
            },
            "marker": {
             "line": {
              "color": "#E5ECF6",
              "width": 0.5
             },
             "pattern": {
              "fillmode": "overlay",
              "size": 10,
              "solidity": 0.2
             }
            },
            "type": "bar"
           }
          ],
          "barpolar": [
           {
            "marker": {
             "line": {
              "color": "#E5ECF6",
              "width": 0.5
             },
             "pattern": {
              "fillmode": "overlay",
              "size": 10,
              "solidity": 0.2
             }
            },
            "type": "barpolar"
           }
          ],
          "carpet": [
           {
            "aaxis": {
             "endlinecolor": "#2a3f5f",
             "gridcolor": "white",
             "linecolor": "white",
             "minorgridcolor": "white",
             "startlinecolor": "#2a3f5f"
            },
            "baxis": {
             "endlinecolor": "#2a3f5f",
             "gridcolor": "white",
             "linecolor": "white",
             "minorgridcolor": "white",
             "startlinecolor": "#2a3f5f"
            },
            "type": "carpet"
           }
          ],
          "choropleth": [
           {
            "colorbar": {
             "outlinewidth": 0,
             "ticks": ""
            },
            "type": "choropleth"
           }
          ],
          "contour": [
           {
            "colorbar": {
             "outlinewidth": 0,
             "ticks": ""
            },
            "colorscale": [
             [
              0,
              "#0d0887"
             ],
             [
              0.1111111111111111,
              "#46039f"
             ],
             [
              0.2222222222222222,
              "#7201a8"
             ],
             [
              0.3333333333333333,
              "#9c179e"
             ],
             [
              0.4444444444444444,
              "#bd3786"
             ],
             [
              0.5555555555555556,
              "#d8576b"
             ],
             [
              0.6666666666666666,
              "#ed7953"
             ],
             [
              0.7777777777777778,
              "#fb9f3a"
             ],
             [
              0.8888888888888888,
              "#fdca26"
             ],
             [
              1,
              "#f0f921"
             ]
            ],
            "type": "contour"
           }
          ],
          "contourcarpet": [
           {
            "colorbar": {
             "outlinewidth": 0,
             "ticks": ""
            },
            "type": "contourcarpet"
           }
          ],
          "heatmap": [
           {
            "colorbar": {
             "outlinewidth": 0,
             "ticks": ""
            },
            "colorscale": [
             [
              0,
              "#0d0887"
             ],
             [
              0.1111111111111111,
              "#46039f"
             ],
             [
              0.2222222222222222,
              "#7201a8"
             ],
             [
              0.3333333333333333,
              "#9c179e"
             ],
             [
              0.4444444444444444,
              "#bd3786"
             ],
             [
              0.5555555555555556,
              "#d8576b"
             ],
             [
              0.6666666666666666,
              "#ed7953"
             ],
             [
              0.7777777777777778,
              "#fb9f3a"
             ],
             [
              0.8888888888888888,
              "#fdca26"
             ],
             [
              1,
              "#f0f921"
             ]
            ],
            "type": "heatmap"
           }
          ],
          "histogram": [
           {
            "marker": {
             "pattern": {
              "fillmode": "overlay",
              "size": 10,
              "solidity": 0.2
             }
            },
            "type": "histogram"
           }
          ],
          "histogram2d": [
           {
            "colorbar": {
             "outlinewidth": 0,
             "ticks": ""
            },
            "colorscale": [
             [
              0,
              "#0d0887"
             ],
             [
              0.1111111111111111,
              "#46039f"
             ],
             [
              0.2222222222222222,
              "#7201a8"
             ],
             [
              0.3333333333333333,
              "#9c179e"
             ],
             [
              0.4444444444444444,
              "#bd3786"
             ],
             [
              0.5555555555555556,
              "#d8576b"
             ],
             [
              0.6666666666666666,
              "#ed7953"
             ],
             [
              0.7777777777777778,
              "#fb9f3a"
             ],
             [
              0.8888888888888888,
              "#fdca26"
             ],
             [
              1,
              "#f0f921"
             ]
            ],
            "type": "histogram2d"
           }
          ],
          "histogram2dcontour": [
           {
            "colorbar": {
             "outlinewidth": 0,
             "ticks": ""
            },
            "colorscale": [
             [
              0,
              "#0d0887"
             ],
             [
              0.1111111111111111,
              "#46039f"
             ],
             [
              0.2222222222222222,
              "#7201a8"
             ],
             [
              0.3333333333333333,
              "#9c179e"
             ],
             [
              0.4444444444444444,
              "#bd3786"
             ],
             [
              0.5555555555555556,
              "#d8576b"
             ],
             [
              0.6666666666666666,
              "#ed7953"
             ],
             [
              0.7777777777777778,
              "#fb9f3a"
             ],
             [
              0.8888888888888888,
              "#fdca26"
             ],
             [
              1,
              "#f0f921"
             ]
            ],
            "type": "histogram2dcontour"
           }
          ],
          "mesh3d": [
           {
            "colorbar": {
             "outlinewidth": 0,
             "ticks": ""
            },
            "type": "mesh3d"
           }
          ],
          "parcoords": [
           {
            "line": {
             "colorbar": {
              "outlinewidth": 0,
              "ticks": ""
             }
            },
            "type": "parcoords"
           }
          ],
          "pie": [
           {
            "automargin": true,
            "type": "pie"
           }
          ],
          "scatter": [
           {
            "fillpattern": {
             "fillmode": "overlay",
             "size": 10,
             "solidity": 0.2
            },
            "type": "scatter"
           }
          ],
          "scatter3d": [
           {
            "line": {
             "colorbar": {
              "outlinewidth": 0,
              "ticks": ""
             }
            },
            "marker": {
             "colorbar": {
              "outlinewidth": 0,
              "ticks": ""
             }
            },
            "type": "scatter3d"
           }
          ],
          "scattercarpet": [
           {
            "marker": {
             "colorbar": {
              "outlinewidth": 0,
              "ticks": ""
             }
            },
            "type": "scattercarpet"
           }
          ],
          "scattergeo": [
           {
            "marker": {
             "colorbar": {
              "outlinewidth": 0,
              "ticks": ""
             }
            },
            "type": "scattergeo"
           }
          ],
          "scattergl": [
           {
            "marker": {
             "colorbar": {
              "outlinewidth": 0,
              "ticks": ""
             }
            },
            "type": "scattergl"
           }
          ],
          "scattermap": [
           {
            "marker": {
             "colorbar": {
              "outlinewidth": 0,
              "ticks": ""
             }
            },
            "type": "scattermap"
           }
          ],
          "scattermapbox": [
           {
            "marker": {
             "colorbar": {
              "outlinewidth": 0,
              "ticks": ""
             }
            },
            "type": "scattermapbox"
           }
          ],
          "scatterpolar": [
           {
            "marker": {
             "colorbar": {
              "outlinewidth": 0,
              "ticks": ""
             }
            },
            "type": "scatterpolar"
           }
          ],
          "scatterpolargl": [
           {
            "marker": {
             "colorbar": {
              "outlinewidth": 0,
              "ticks": ""
             }
            },
            "type": "scatterpolargl"
           }
          ],
          "scatterternary": [
           {
            "marker": {
             "colorbar": {
              "outlinewidth": 0,
              "ticks": ""
             }
            },
            "type": "scatterternary"
           }
          ],
          "surface": [
           {
            "colorbar": {
             "outlinewidth": 0,
             "ticks": ""
            },
            "colorscale": [
             [
              0,
              "#0d0887"
             ],
             [
              0.1111111111111111,
              "#46039f"
             ],
             [
              0.2222222222222222,
              "#7201a8"
             ],
             [
              0.3333333333333333,
              "#9c179e"
             ],
             [
              0.4444444444444444,
              "#bd3786"
             ],
             [
              0.5555555555555556,
              "#d8576b"
             ],
             [
              0.6666666666666666,
              "#ed7953"
             ],
             [
              0.7777777777777778,
              "#fb9f3a"
             ],
             [
              0.8888888888888888,
              "#fdca26"
             ],
             [
              1,
              "#f0f921"
             ]
            ],
            "type": "surface"
           }
          ],
          "table": [
           {
            "cells": {
             "fill": {
              "color": "#EBF0F8"
             },
             "line": {
              "color": "white"
             }
            },
            "header": {
             "fill": {
              "color": "#C8D4E3"
             },
             "line": {
              "color": "white"
             }
            },
            "type": "table"
           }
          ]
         },
         "layout": {
          "annotationdefaults": {
           "arrowcolor": "#2a3f5f",
           "arrowhead": 0,
           "arrowwidth": 1
          },
          "autotypenumbers": "strict",
          "coloraxis": {
           "colorbar": {
            "outlinewidth": 0,
            "ticks": ""
           }
          },
          "colorscale": {
           "diverging": [
            [
             0,
             "#8e0152"
            ],
            [
             0.1,
             "#c51b7d"
            ],
            [
             0.2,
             "#de77ae"
            ],
            [
             0.3,
             "#f1b6da"
            ],
            [
             0.4,
             "#fde0ef"
            ],
            [
             0.5,
             "#f7f7f7"
            ],
            [
             0.6,
             "#e6f5d0"
            ],
            [
             0.7,
             "#b8e186"
            ],
            [
             0.8,
             "#7fbc41"
            ],
            [
             0.9,
             "#4d9221"
            ],
            [
             1,
             "#276419"
            ]
           ],
           "sequential": [
            [
             0,
             "#0d0887"
            ],
            [
             0.1111111111111111,
             "#46039f"
            ],
            [
             0.2222222222222222,
             "#7201a8"
            ],
            [
             0.3333333333333333,
             "#9c179e"
            ],
            [
             0.4444444444444444,
             "#bd3786"
            ],
            [
             0.5555555555555556,
             "#d8576b"
            ],
            [
             0.6666666666666666,
             "#ed7953"
            ],
            [
             0.7777777777777778,
             "#fb9f3a"
            ],
            [
             0.8888888888888888,
             "#fdca26"
            ],
            [
             1,
             "#f0f921"
            ]
           ],
           "sequentialminus": [
            [
             0,
             "#0d0887"
            ],
            [
             0.1111111111111111,
             "#46039f"
            ],
            [
             0.2222222222222222,
             "#7201a8"
            ],
            [
             0.3333333333333333,
             "#9c179e"
            ],
            [
             0.4444444444444444,
             "#bd3786"
            ],
            [
             0.5555555555555556,
             "#d8576b"
            ],
            [
             0.6666666666666666,
             "#ed7953"
            ],
            [
             0.7777777777777778,
             "#fb9f3a"
            ],
            [
             0.8888888888888888,
             "#fdca26"
            ],
            [
             1,
             "#f0f921"
            ]
           ]
          },
          "colorway": [
           "#636efa",
           "#EF553B",
           "#00cc96",
           "#ab63fa",
           "#FFA15A",
           "#19d3f3",
           "#FF6692",
           "#B6E880",
           "#FF97FF",
           "#FECB52"
          ],
          "font": {
           "color": "#2a3f5f"
          },
          "geo": {
           "bgcolor": "white",
           "lakecolor": "white",
           "landcolor": "#E5ECF6",
           "showlakes": true,
           "showland": true,
           "subunitcolor": "white"
          },
          "hoverlabel": {
           "align": "left"
          },
          "hovermode": "closest",
          "mapbox": {
           "style": "light"
          },
          "paper_bgcolor": "white",
          "plot_bgcolor": "#E5ECF6",
          "polar": {
           "angularaxis": {
            "gridcolor": "white",
            "linecolor": "white",
            "ticks": ""
           },
           "bgcolor": "#E5ECF6",
           "radialaxis": {
            "gridcolor": "white",
            "linecolor": "white",
            "ticks": ""
           }
          },
          "scene": {
           "xaxis": {
            "backgroundcolor": "#E5ECF6",
            "gridcolor": "white",
            "gridwidth": 2,
            "linecolor": "white",
            "showbackground": true,
            "ticks": "",
            "zerolinecolor": "white"
           },
           "yaxis": {
            "backgroundcolor": "#E5ECF6",
            "gridcolor": "white",
            "gridwidth": 2,
            "linecolor": "white",
            "showbackground": true,
            "ticks": "",
            "zerolinecolor": "white"
           },
           "zaxis": {
            "backgroundcolor": "#E5ECF6",
            "gridcolor": "white",
            "gridwidth": 2,
            "linecolor": "white",
            "showbackground": true,
            "ticks": "",
            "zerolinecolor": "white"
           }
          },
          "shapedefaults": {
           "line": {
            "color": "#2a3f5f"
           }
          },
          "ternary": {
           "aaxis": {
            "gridcolor": "white",
            "linecolor": "white",
            "ticks": ""
           },
           "baxis": {
            "gridcolor": "white",
            "linecolor": "white",
            "ticks": ""
           },
           "bgcolor": "#E5ECF6",
           "caxis": {
            "gridcolor": "white",
            "linecolor": "white",
            "ticks": ""
           }
          },
          "title": {
           "x": 0.05
          },
          "xaxis": {
           "automargin": true,
           "gridcolor": "white",
           "linecolor": "white",
           "ticks": "",
           "title": {
            "standoff": 15
           },
           "zerolinecolor": "white",
           "zerolinewidth": 2
          },
          "yaxis": {
           "automargin": true,
           "gridcolor": "white",
           "linecolor": "white",
           "ticks": "",
           "title": {
            "standoff": 15
           },
           "zerolinecolor": "white",
           "zerolinewidth": 2
          }
         }
        },
        "xaxis": {
         "anchor": "y",
         "domain": [
          0,
          1
         ],
         "title": {
          "text": "winner"
         }
        },
        "yaxis": {
         "anchor": "x",
         "domain": [
          0,
          1
         ],
         "title": {
          "text": "count"
         }
        }
       }
      }
     },
     "metadata": {},
     "output_type": "display_data"
    },
    {
     "ename": "",
     "evalue": "",
     "output_type": "error",
     "traceback": [
      "\u001b[1;31mnotebook controller is DISPOSED. \n",
      "\u001b[1;31mView Jupyter <a href='command:jupyter.viewOutput'>log</a> for further details."
     ]
    },
    {
     "ename": "",
     "evalue": "",
     "output_type": "error",
     "traceback": [
      "\u001b[1;31mnotebook controller is DISPOSED. \n",
      "\u001b[1;31mView Jupyter <a href='command:jupyter.viewOutput'>log</a> for further details."
     ]
    }
   ],
   "source": [
    "df_game_result[df_game_result[\"C\"] != GameResult.FINISHED.name]\n",
    "px.histogram(df_game_result, \"winner\", color=\"strategy\")\n"
   ]
  },
  {
   "cell_type": "code",
   "execution_count": null,
   "id": "d961e571",
   "metadata": {},
   "outputs": [
    {
     "data": {
      "application/vnd.plotly.v1+json": {
       "config": {
        "plotlyServerURL": "https://plot.ly"
       },
       "data": [
        {
         "bingroup": "x",
         "hovertemplate": "strategy=RANDOM_SINGLE<br>end_epoch=%{x}<br>count=%{y}<extra></extra>",
         "legendgroup": "RANDOM_SINGLE",
         "marker": {
          "color": "#636efa",
          "pattern": {
           "shape": ""
          }
         },
         "name": "RANDOM_SINGLE",
         "nbinsx": 62,
         "orientation": "v",
         "showlegend": true,
         "type": "histogram",
         "x": {
          "bdata": "MS4sCC8tEywsCQQpMC8tJBgtMSwpBysHKxEWJSwmLS4nLzIvMTEoNC4sKDcwKA8zBS0EAispLC0jMykSJQUtKCoJJy4FMTAuLTEXMCgtLSwrLCUMCAIqNSonFCgqFycqKiIwEy0XCy4rJQImEA4iLwQxKS0pLy0JLSoqLgwoLSgRFScnLSkqGCooEyggDCkqBBIsJi8nHCoJLSYLKyU9KiMyLyYOKyoxFisrLDkEJCYuIiw3MSgeBSguKwYqKyQrLiYsKxkSLQclLi4UKBIsJywHLAwvLiwdKSopKjA4Cw4oJTItDwcoKiIvKAQ5LCMnKyo6MjgyMCwhKS8aLSkrMS8HKSsvBzIsNBMEBS4wMi82LSoqKSwrKygbBSkrMCUlMCwtKyoyKjIpLAUqIAQkKxUQKDcpLRUrNAorLhsnKTQpBCkxLi4HNC0TLSc4KyouEQopLSozLCcsLTAvJgw1CC0GKAIsLC4lFzINMSosLisNKy0qLS4nBSwrKS4tJysoAi8wLiEnMg4vFigWBysHKjElJwkpLyUqKClANSIwHCsNLjQuBzEpCAQHJS00ECQ3JCsKLjQpDCksLCsqHi4PJy4uLSkrJC8tKi4tMSo0CyslKSctJygfLjUaMScJKykpFy8HKig0BCYeLTQuLSUnJSwhIBsuDzwtBQgvKwgSJi4rMConLigTKigkNxUpEConLiYnJyQoLi4oMDArJSsVCDYrLCgGGQUxKy0sFigNKyosKCIpJw8JJy0tJRgpLSswIS4FLSctLiwpKzUqBygaJykqKAgpMjQxKzomCigZLCsEKSgnMgwvLyslKi8NDiMtBQ0qLi0PKgUwMDcwNS4rKisrMAIkCy0qKC8xETESBjQOLxktJyw3OSouKCsvNRMcJjEyLSUqHislOSwqJzIxLC4zJw4LLAYhGDIrKg8zKSQ1Di0yJS8nBywvLSoqJgcxMS4tLyExLC0tBSwEBAkpMC0pKSEFKAwsMS0rJwUwIw0sLSovKiMxJxIxMgIYLCsvJzEREREuKScoMSwpJzAmAi0tLgksNjAnESouDjMtJSwuHScFJiwRMCgtKywvLC4rMSYKKCYoKiwuJwQpLzIpCi8qKSouKykrKDEsISwoKionKiwjCjMuKyYsKw8kEBssLCkzNSojKC0pLSwzLCoZLQYJBywsMy0pFjIILS0qLyklKi8pECoLMwotKRotJi8sLSwLLSgzMykpLzMqLCsrHigsLSwKKiciLAUtLy8KLCIvMyMwLCQlISovEQotJCQqLTMtJy0FLCgLKScCIy4vKhEJLCYxJQguEikjMC4oKyonKispLSwELA==",
          "dtype": "i1"
         },
         "xaxis": "x",
         "yaxis": "y"
        },
        {
         "bingroup": "x",
         "hovertemplate": "strategy=CLOSEST_RUN_AWAY<br>end_epoch=%{x}<br>count=%{y}<extra></extra>",
         "legendgroup": "CLOSEST_RUN_AWAY",
         "marker": {
          "color": "#EF553B",
          "pattern": {
           "shape": ""
          }
         },
         "name": "CLOSEST_RUN_AWAY",
         "nbinsx": 62,
         "orientation": "v",
         "showlegend": true,
         "type": "histogram",
         "x": {
          "bdata": "KiYnDi0xMS84Ci4tETMqJiwdLCssKjUrLiktMC0KJS0tKzEaLzkyKjEsMwYrMysoJzIzKio/BRAvMzMsBDE0Ky0CJiwtMSkqKy8IMS0IJi8zLTIsKBYvCCUvLTUzKzEGNSsvMCkEJBEpKSwrKy8TLxwyBzYrLS8tLigKLiIuLi00Kg8wLwgtMC8wDC0GMggIIjArKy0sGggGIjMxNTM9LC0sMTAIIioPLSkCOjAyNi0wLicuLCkIMiYnEisxNTEtMQk2NDI2Mi8uMCwnFAojMTEEKTcrGR0pJCsGKyQcMCotJjcmKjAUNyoJLC8pLy4zKC4tKggqKSUVAicsKzAsLiktLCcGCSkuIy4sMComLCggCDIoMy8tLjIuMTUrLSwpNCstKSwJJxkwMy0vBiwvKygyBDUpMi0xLDAMKzEvLCUwLj8tNyssKSggLTQRLS8tKjMxKS0mKScIFC00MxswKiwTLiIvLSwQCisvKxAELC8rLi08LC4xLScGLSkGJjcOKzMxKioKMS8yLScqMCsQKiksEzYsLRAxKikZGhIsAjUwLikqLTAQLCsCKCkpLy4GKTEqLSk2ETAtLDQoLCg3KystKy0KLDMxChMvLzEsKiotLS0UJiwtERoXKi8sLTAxIzI3MjEsCgQmKiwuDykCNi4uMBErKgkuLSgVAi0tJDMQCC4oJi4SIy4hLDslJAQpCgosLwgILSYQKScvMzAvIisrNAouLCsuKwo0NTIvLTQFLTIwCBApCCYwKiotLSwxLS40LConKTYKCBkpMCQrLyszKhwTDwIwKTAtMS4wLS4rKjQmMi0QKicxKi4yKyknLi8qKyw4KDYoESkuLCwqNjMrBjAwLyktKi4zAggvBBIsBC0iLi4GKxEsKSw2MxgsKysKMxYCKTMrLQwwNSoJLigkMwIuKiUELC0vCC0MIzE0MSsrKwgrNy0wKDAPKi4tKTISLjI1NCkvDCUrMS4ULCgqMSgyLTUWJysrLS8wMy8vLyoENzAwFQgpKQQtMTYpAgQsLiYuDi0yEiczMSUYLyssKyktKzIrMDEEJAI8JystLQ4rKQYmBhYrLCspKRUnKCksLCQGKy8qKCMrJSgrLAQYLg4wOCozJS0wKS0QJykKNygtDwk1Ki0tLBArLy0tKiUrMDIxNScwNCwrKywqJykvLyIoKysmIywrJzEwAiopLCkQKyw3MCUyBistKjIUKwYsNikGKjUtLysnKgYQLzcpMTApCC4sDC0jBCotMwkRAhIuNjEyMQY0IwksCC4vAggFLwYxBi8uMCstAjYmOicsMDErMQo0Ky8wBi0tCSMtMSYzKyoEKw==",
          "dtype": "i1"
         },
         "xaxis": "x",
         "yaxis": "y"
        },
        {
         "bingroup": "x",
         "hovertemplate": "strategy=ONLY_ONE_RUN_AWAY<br>end_epoch=%{x}<br>count=%{y}<extra></extra>",
         "legendgroup": "ONLY_ONE_RUN_AWAY",
         "marker": {
          "color": "#00cc96",
          "pattern": {
           "shape": ""
          }
         },
         "name": "ONLY_ONE_RUN_AWAY",
         "nbinsx": 62,
         "orientation": "v",
         "showlegend": true,
         "type": "histogram",
         "x": {
          "bdata": "DTQJMCInLiUkMCUOHSMWLTAnKTgvJAYoBQYyJyouJyUqIisUJjImNyolJiguKAYrJDMONSoJKwkEJyMkIyEqIzMtLhwLBiAmMyMGIDIQJjAQJioHJiUuKygfIhMpFSY2HicpIwUOKTIfJQkpIzAsIiksIi0YBA4eMCI2JSQvKiknJgQmNB8oIwYfJiUlJycOOSkmKh0hKC0cCyMkIicyJAYlKRYgNCQlDicwKikpIyElJyUuHxAsEikoKgciHiM5IC0tKQwuIgklKCgOJSMkJxwoByElLyc2IAUjJyIkJiglIiInBDAFKSQlJR8kPCULIgo/CyIpBSkgKTcmBCkCJyg3IjkiLi8nJSUcLBYsKB8xKSEqNCghJScoGygkBCMrJCAlJhwiCisjGSkWJSACHionMAwsISUzJSciKS4iAjEwJSAOLB8jJzcLMAozNyg2AjoCNyMlDigiNQQrKCcmHAIFKSggPRkyLzMlLiYiOSAPJAkhCyg1KTYjFi4RICwlLSoQFiUFNDcpJiclBTspJSEWKCknNSkkJxMwCyUjJg8nISQkJiIjNSIsJCwmCTQPBCoLKyQlGTEnJyslICEnLCkhJCgjKh4sKg4GIB8qNCIGKiEECB8rIiYmCSUnBSkhJAojJyojGiclHiEtJSAkMzQiEC4kJCYnKTAoIzMQLiQkJiMnKhQmHyUxGjMiGiglHgsjLzImISMEMykgISUlISohISgmKicgJAcjBCsrHyApBCQpJDEiMiIuJTUpJCcoNh4GBwsrJCcoJjwfPiomBDAlOSsPKSYtEDE1KwQwIyYjGgwsJCYoKCMmKScmIigfKCMxKg0pJicsGiErJCglCScgJyUFLisuJSc3BhwEAikGESIIIx4nITsqBBkoIiMjKCIXNx81HAkkJgw2IzAmNDIMLycsCCQ5OSoeJTYhLQgWMyMRCxUnJx8zCQkmIjgnLSINJyIJJyAnKQorIyYuEDMjISkgBDYpMCEGFAwKLh01KCMpICEQIiEjJBYkJg05PA0hJiYmKgwjBigkIzwjMSMMBykGKSQgJy0uMB8NJCUWMiwgNAUrNyUFJiYlITkGICMjIzAoMC0uHAQkIwImKgUlAh8qKgUhLiM6KgcgLwkFIxEmGSMtDiUmMyYEJCI5KCgmJyMyEjEpIyY1KwIGJSIHJjUhKxA0IyUFBA4hISdAFSUxCjMkMiANDiUjJigrJiApIiYkNCUaIiQmKCQmJx0jMzUdMiYiJiYpDCUYMCY0ISkiISMzJh40MCYpKRQPJSEuKDwnJy0zJyo6BSUPDCgjJyMtBSQmIygrBjAqLQ0jMCMGJjAyIw==",
          "dtype": "i1"
         },
         "xaxis": "x",
         "yaxis": "y"
        }
       ],
       "layout": {
        "barmode": "relative",
        "legend": {
         "title": {
          "text": "strategy"
         },
         "tracegroupgap": 0
        },
        "margin": {
         "t": 60
        },
        "template": {
         "data": {
          "bar": [
           {
            "error_x": {
             "color": "#2a3f5f"
            },
            "error_y": {
             "color": "#2a3f5f"
            },
            "marker": {
             "line": {
              "color": "#E5ECF6",
              "width": 0.5
             },
             "pattern": {
              "fillmode": "overlay",
              "size": 10,
              "solidity": 0.2
             }
            },
            "type": "bar"
           }
          ],
          "barpolar": [
           {
            "marker": {
             "line": {
              "color": "#E5ECF6",
              "width": 0.5
             },
             "pattern": {
              "fillmode": "overlay",
              "size": 10,
              "solidity": 0.2
             }
            },
            "type": "barpolar"
           }
          ],
          "carpet": [
           {
            "aaxis": {
             "endlinecolor": "#2a3f5f",
             "gridcolor": "white",
             "linecolor": "white",
             "minorgridcolor": "white",
             "startlinecolor": "#2a3f5f"
            },
            "baxis": {
             "endlinecolor": "#2a3f5f",
             "gridcolor": "white",
             "linecolor": "white",
             "minorgridcolor": "white",
             "startlinecolor": "#2a3f5f"
            },
            "type": "carpet"
           }
          ],
          "choropleth": [
           {
            "colorbar": {
             "outlinewidth": 0,
             "ticks": ""
            },
            "type": "choropleth"
           }
          ],
          "contour": [
           {
            "colorbar": {
             "outlinewidth": 0,
             "ticks": ""
            },
            "colorscale": [
             [
              0,
              "#0d0887"
             ],
             [
              0.1111111111111111,
              "#46039f"
             ],
             [
              0.2222222222222222,
              "#7201a8"
             ],
             [
              0.3333333333333333,
              "#9c179e"
             ],
             [
              0.4444444444444444,
              "#bd3786"
             ],
             [
              0.5555555555555556,
              "#d8576b"
             ],
             [
              0.6666666666666666,
              "#ed7953"
             ],
             [
              0.7777777777777778,
              "#fb9f3a"
             ],
             [
              0.8888888888888888,
              "#fdca26"
             ],
             [
              1,
              "#f0f921"
             ]
            ],
            "type": "contour"
           }
          ],
          "contourcarpet": [
           {
            "colorbar": {
             "outlinewidth": 0,
             "ticks": ""
            },
            "type": "contourcarpet"
           }
          ],
          "heatmap": [
           {
            "colorbar": {
             "outlinewidth": 0,
             "ticks": ""
            },
            "colorscale": [
             [
              0,
              "#0d0887"
             ],
             [
              0.1111111111111111,
              "#46039f"
             ],
             [
              0.2222222222222222,
              "#7201a8"
             ],
             [
              0.3333333333333333,
              "#9c179e"
             ],
             [
              0.4444444444444444,
              "#bd3786"
             ],
             [
              0.5555555555555556,
              "#d8576b"
             ],
             [
              0.6666666666666666,
              "#ed7953"
             ],
             [
              0.7777777777777778,
              "#fb9f3a"
             ],
             [
              0.8888888888888888,
              "#fdca26"
             ],
             [
              1,
              "#f0f921"
             ]
            ],
            "type": "heatmap"
           }
          ],
          "histogram": [
           {
            "marker": {
             "pattern": {
              "fillmode": "overlay",
              "size": 10,
              "solidity": 0.2
             }
            },
            "type": "histogram"
           }
          ],
          "histogram2d": [
           {
            "colorbar": {
             "outlinewidth": 0,
             "ticks": ""
            },
            "colorscale": [
             [
              0,
              "#0d0887"
             ],
             [
              0.1111111111111111,
              "#46039f"
             ],
             [
              0.2222222222222222,
              "#7201a8"
             ],
             [
              0.3333333333333333,
              "#9c179e"
             ],
             [
              0.4444444444444444,
              "#bd3786"
             ],
             [
              0.5555555555555556,
              "#d8576b"
             ],
             [
              0.6666666666666666,
              "#ed7953"
             ],
             [
              0.7777777777777778,
              "#fb9f3a"
             ],
             [
              0.8888888888888888,
              "#fdca26"
             ],
             [
              1,
              "#f0f921"
             ]
            ],
            "type": "histogram2d"
           }
          ],
          "histogram2dcontour": [
           {
            "colorbar": {
             "outlinewidth": 0,
             "ticks": ""
            },
            "colorscale": [
             [
              0,
              "#0d0887"
             ],
             [
              0.1111111111111111,
              "#46039f"
             ],
             [
              0.2222222222222222,
              "#7201a8"
             ],
             [
              0.3333333333333333,
              "#9c179e"
             ],
             [
              0.4444444444444444,
              "#bd3786"
             ],
             [
              0.5555555555555556,
              "#d8576b"
             ],
             [
              0.6666666666666666,
              "#ed7953"
             ],
             [
              0.7777777777777778,
              "#fb9f3a"
             ],
             [
              0.8888888888888888,
              "#fdca26"
             ],
             [
              1,
              "#f0f921"
             ]
            ],
            "type": "histogram2dcontour"
           }
          ],
          "mesh3d": [
           {
            "colorbar": {
             "outlinewidth": 0,
             "ticks": ""
            },
            "type": "mesh3d"
           }
          ],
          "parcoords": [
           {
            "line": {
             "colorbar": {
              "outlinewidth": 0,
              "ticks": ""
             }
            },
            "type": "parcoords"
           }
          ],
          "pie": [
           {
            "automargin": true,
            "type": "pie"
           }
          ],
          "scatter": [
           {
            "fillpattern": {
             "fillmode": "overlay",
             "size": 10,
             "solidity": 0.2
            },
            "type": "scatter"
           }
          ],
          "scatter3d": [
           {
            "line": {
             "colorbar": {
              "outlinewidth": 0,
              "ticks": ""
             }
            },
            "marker": {
             "colorbar": {
              "outlinewidth": 0,
              "ticks": ""
             }
            },
            "type": "scatter3d"
           }
          ],
          "scattercarpet": [
           {
            "marker": {
             "colorbar": {
              "outlinewidth": 0,
              "ticks": ""
             }
            },
            "type": "scattercarpet"
           }
          ],
          "scattergeo": [
           {
            "marker": {
             "colorbar": {
              "outlinewidth": 0,
              "ticks": ""
             }
            },
            "type": "scattergeo"
           }
          ],
          "scattergl": [
           {
            "marker": {
             "colorbar": {
              "outlinewidth": 0,
              "ticks": ""
             }
            },
            "type": "scattergl"
           }
          ],
          "scattermap": [
           {
            "marker": {
             "colorbar": {
              "outlinewidth": 0,
              "ticks": ""
             }
            },
            "type": "scattermap"
           }
          ],
          "scattermapbox": [
           {
            "marker": {
             "colorbar": {
              "outlinewidth": 0,
              "ticks": ""
             }
            },
            "type": "scattermapbox"
           }
          ],
          "scatterpolar": [
           {
            "marker": {
             "colorbar": {
              "outlinewidth": 0,
              "ticks": ""
             }
            },
            "type": "scatterpolar"
           }
          ],
          "scatterpolargl": [
           {
            "marker": {
             "colorbar": {
              "outlinewidth": 0,
              "ticks": ""
             }
            },
            "type": "scatterpolargl"
           }
          ],
          "scatterternary": [
           {
            "marker": {
             "colorbar": {
              "outlinewidth": 0,
              "ticks": ""
             }
            },
            "type": "scatterternary"
           }
          ],
          "surface": [
           {
            "colorbar": {
             "outlinewidth": 0,
             "ticks": ""
            },
            "colorscale": [
             [
              0,
              "#0d0887"
             ],
             [
              0.1111111111111111,
              "#46039f"
             ],
             [
              0.2222222222222222,
              "#7201a8"
             ],
             [
              0.3333333333333333,
              "#9c179e"
             ],
             [
              0.4444444444444444,
              "#bd3786"
             ],
             [
              0.5555555555555556,
              "#d8576b"
             ],
             [
              0.6666666666666666,
              "#ed7953"
             ],
             [
              0.7777777777777778,
              "#fb9f3a"
             ],
             [
              0.8888888888888888,
              "#fdca26"
             ],
             [
              1,
              "#f0f921"
             ]
            ],
            "type": "surface"
           }
          ],
          "table": [
           {
            "cells": {
             "fill": {
              "color": "#EBF0F8"
             },
             "line": {
              "color": "white"
             }
            },
            "header": {
             "fill": {
              "color": "#C8D4E3"
             },
             "line": {
              "color": "white"
             }
            },
            "type": "table"
           }
          ]
         },
         "layout": {
          "annotationdefaults": {
           "arrowcolor": "#2a3f5f",
           "arrowhead": 0,
           "arrowwidth": 1
          },
          "autotypenumbers": "strict",
          "coloraxis": {
           "colorbar": {
            "outlinewidth": 0,
            "ticks": ""
           }
          },
          "colorscale": {
           "diverging": [
            [
             0,
             "#8e0152"
            ],
            [
             0.1,
             "#c51b7d"
            ],
            [
             0.2,
             "#de77ae"
            ],
            [
             0.3,
             "#f1b6da"
            ],
            [
             0.4,
             "#fde0ef"
            ],
            [
             0.5,
             "#f7f7f7"
            ],
            [
             0.6,
             "#e6f5d0"
            ],
            [
             0.7,
             "#b8e186"
            ],
            [
             0.8,
             "#7fbc41"
            ],
            [
             0.9,
             "#4d9221"
            ],
            [
             1,
             "#276419"
            ]
           ],
           "sequential": [
            [
             0,
             "#0d0887"
            ],
            [
             0.1111111111111111,
             "#46039f"
            ],
            [
             0.2222222222222222,
             "#7201a8"
            ],
            [
             0.3333333333333333,
             "#9c179e"
            ],
            [
             0.4444444444444444,
             "#bd3786"
            ],
            [
             0.5555555555555556,
             "#d8576b"
            ],
            [
             0.6666666666666666,
             "#ed7953"
            ],
            [
             0.7777777777777778,
             "#fb9f3a"
            ],
            [
             0.8888888888888888,
             "#fdca26"
            ],
            [
             1,
             "#f0f921"
            ]
           ],
           "sequentialminus": [
            [
             0,
             "#0d0887"
            ],
            [
             0.1111111111111111,
             "#46039f"
            ],
            [
             0.2222222222222222,
             "#7201a8"
            ],
            [
             0.3333333333333333,
             "#9c179e"
            ],
            [
             0.4444444444444444,
             "#bd3786"
            ],
            [
             0.5555555555555556,
             "#d8576b"
            ],
            [
             0.6666666666666666,
             "#ed7953"
            ],
            [
             0.7777777777777778,
             "#fb9f3a"
            ],
            [
             0.8888888888888888,
             "#fdca26"
            ],
            [
             1,
             "#f0f921"
            ]
           ]
          },
          "colorway": [
           "#636efa",
           "#EF553B",
           "#00cc96",
           "#ab63fa",
           "#FFA15A",
           "#19d3f3",
           "#FF6692",
           "#B6E880",
           "#FF97FF",
           "#FECB52"
          ],
          "font": {
           "color": "#2a3f5f"
          },
          "geo": {
           "bgcolor": "white",
           "lakecolor": "white",
           "landcolor": "#E5ECF6",
           "showlakes": true,
           "showland": true,
           "subunitcolor": "white"
          },
          "hoverlabel": {
           "align": "left"
          },
          "hovermode": "closest",
          "mapbox": {
           "style": "light"
          },
          "paper_bgcolor": "white",
          "plot_bgcolor": "#E5ECF6",
          "polar": {
           "angularaxis": {
            "gridcolor": "white",
            "linecolor": "white",
            "ticks": ""
           },
           "bgcolor": "#E5ECF6",
           "radialaxis": {
            "gridcolor": "white",
            "linecolor": "white",
            "ticks": ""
           }
          },
          "scene": {
           "xaxis": {
            "backgroundcolor": "#E5ECF6",
            "gridcolor": "white",
            "gridwidth": 2,
            "linecolor": "white",
            "showbackground": true,
            "ticks": "",
            "zerolinecolor": "white"
           },
           "yaxis": {
            "backgroundcolor": "#E5ECF6",
            "gridcolor": "white",
            "gridwidth": 2,
            "linecolor": "white",
            "showbackground": true,
            "ticks": "",
            "zerolinecolor": "white"
           },
           "zaxis": {
            "backgroundcolor": "#E5ECF6",
            "gridcolor": "white",
            "gridwidth": 2,
            "linecolor": "white",
            "showbackground": true,
            "ticks": "",
            "zerolinecolor": "white"
           }
          },
          "shapedefaults": {
           "line": {
            "color": "#2a3f5f"
           }
          },
          "ternary": {
           "aaxis": {
            "gridcolor": "white",
            "linecolor": "white",
            "ticks": ""
           },
           "baxis": {
            "gridcolor": "white",
            "linecolor": "white",
            "ticks": ""
           },
           "bgcolor": "#E5ECF6",
           "caxis": {
            "gridcolor": "white",
            "linecolor": "white",
            "ticks": ""
           }
          },
          "title": {
           "x": 0.05
          },
          "xaxis": {
           "automargin": true,
           "gridcolor": "white",
           "linecolor": "white",
           "ticks": "",
           "title": {
            "standoff": 15
           },
           "zerolinecolor": "white",
           "zerolinewidth": 2
          },
          "yaxis": {
           "automargin": true,
           "gridcolor": "white",
           "linecolor": "white",
           "ticks": "",
           "title": {
            "standoff": 15
           },
           "zerolinecolor": "white",
           "zerolinewidth": 2
          }
         }
        },
        "xaxis": {
         "anchor": "y",
         "domain": [
          0,
          1
         ],
         "title": {
          "text": "end_epoch"
         }
        },
        "yaxis": {
         "anchor": "x",
         "domain": [
          0,
          1
         ],
         "title": {
          "text": "count"
         }
        }
       }
      }
     },
     "metadata": {},
     "output_type": "display_data"
    },
    {
     "ename": "",
     "evalue": "",
     "output_type": "error",
     "traceback": [
      "\u001b[1;31mnotebook controller is DISPOSED. \n",
      "\u001b[1;31mView Jupyter <a href='command:jupyter.viewOutput'>log</a> for further details."
     ]
    },
    {
     "ename": "",
     "evalue": "",
     "output_type": "error",
     "traceback": [
      "\u001b[1;31mnotebook controller is DISPOSED. \n",
      "\u001b[1;31mView Jupyter <a href='command:jupyter.viewOutput'>log</a> for further details."
     ]
    }
   ],
   "source": [
    "px.histogram(df_game_result, x=\"end_epoch\", nbins=len(df_game_result.end_epoch.unique()), color=\"strategy\")"
   ]
  },
  {
   "cell_type": "code",
   "execution_count": null,
   "id": "3ded2af3",
   "metadata": {},
   "outputs": [
    {
     "ename": "",
     "evalue": "",
     "output_type": "error",
     "traceback": [
      "\u001b[1;31mnotebook controller is DISPOSED. \n",
      "\u001b[1;31mView Jupyter <a href='command:jupyter.viewOutput'>log</a> for further details."
     ]
    },
    {
     "ename": "",
     "evalue": "",
     "output_type": "error",
     "traceback": [
      "\u001b[1;31mnotebook controller is DISPOSED. \n",
      "\u001b[1;31mView Jupyter <a href='command:jupyter.viewOutput'>log</a> for further details."
     ]
    }
   ],
   "source": []
  }
 ],
 "metadata": {
  "kernelspec": {
   "display_name": "py3_12",
   "language": "python",
   "name": "python3"
  },
  "language_info": {
   "codemirror_mode": {
    "name": "ipython",
    "version": 3
   },
   "file_extension": ".py",
   "mimetype": "text/x-python",
   "name": "python",
   "nbconvert_exporter": "python",
   "pygments_lexer": "ipython3",
   "version": "3.12.3"
  }
 },
 "nbformat": 4,
 "nbformat_minor": 5
}
